{
 "cells": [
  {
   "cell_type": "markdown",
   "metadata": {
    "extensions": {
     "jupyter_dashboards": {
      "version": 1,
      "views": {
       "grid_default": {
        "col": 0,
        "height": 4,
        "hidden": false,
        "row": 0,
        "width": 4
       },
       "report_default": {
        "hidden": false
       }
      }
     }
    }
   },
   "source": [
    "# Project: Wrangling and Analyze Data"
   ]
  },
  {
   "cell_type": "code",
   "execution_count": 1,
   "metadata": {},
   "outputs": [],
   "source": [
    "#Import libraries needed\n",
    "import os\n",
    "import numpy as np\n",
    "import pandas as pd\n",
    "import requests\n",
    "import matplotlib.pyplot as plt\n",
    "import tweepy\n",
    "from tweepy import OAuthHandler\n",
    "import json\n",
    "from timeit import default_timer as timer\n",
    "import re\n",
    "import time\n",
    "import seaborn as sns\n",
    "%matplotlib inline\n",
    "\n",
    "# Change the settings to show all the data frame or the cell content\n",
    "pd.set_option('display.max_columns', 500)\n",
    "pd.set_option('max_colwidth', 800)"
   ]
  },
  {
   "cell_type": "code",
   "execution_count": 2,
   "metadata": {},
   "outputs": [],
   "source": [
    "# Set the working directory\n",
    "os.getcwd()\n",
    "os.chdir(r'C:\\Users\\manuk\\OneDrive\\Desktop\\wrangle_analyze_data')"
   ]
  },
  {
   "cell_type": "markdown",
   "metadata": {},
   "source": [
    "## Data Gathering\n",
    "In the cell below, gather **all** three pieces of data for this project and load them in the notebook. **Note:** the methods required to gather each data are different.\n",
    "1. Directly download the WeRateDogs Twitter archive data (twitter_archive_enhanced.csv)"
   ]
  },
  {
   "cell_type": "code",
   "execution_count": 3,
   "metadata": {},
   "outputs": [
    {
     "data": {
      "text/html": [
       "<div>\n",
       "<style scoped>\n",
       "    .dataframe tbody tr th:only-of-type {\n",
       "        vertical-align: middle;\n",
       "    }\n",
       "\n",
       "    .dataframe tbody tr th {\n",
       "        vertical-align: top;\n",
       "    }\n",
       "\n",
       "    .dataframe thead th {\n",
       "        text-align: right;\n",
       "    }\n",
       "</style>\n",
       "<table border=\"1\" class=\"dataframe\">\n",
       "  <thead>\n",
       "    <tr style=\"text-align: right;\">\n",
       "      <th></th>\n",
       "      <th>tweet_id</th>\n",
       "      <th>in_reply_to_status_id</th>\n",
       "      <th>in_reply_to_user_id</th>\n",
       "      <th>timestamp</th>\n",
       "      <th>source</th>\n",
       "      <th>text</th>\n",
       "      <th>retweeted_status_id</th>\n",
       "      <th>retweeted_status_user_id</th>\n",
       "      <th>retweeted_status_timestamp</th>\n",
       "      <th>expanded_urls</th>\n",
       "      <th>rating_numerator</th>\n",
       "      <th>rating_denominator</th>\n",
       "      <th>name</th>\n",
       "      <th>doggo</th>\n",
       "      <th>floofer</th>\n",
       "      <th>pupper</th>\n",
       "      <th>puppo</th>\n",
       "    </tr>\n",
       "  </thead>\n",
       "  <tbody>\n",
       "    <tr>\n",
       "      <th>0</th>\n",
       "      <td>892420643555336193</td>\n",
       "      <td>NaN</td>\n",
       "      <td>NaN</td>\n",
       "      <td>2017-08-01 16:23:56 +0000</td>\n",
       "      <td>&lt;a href=\"http://twitter.com/download/iphone\" rel=\"nofollow\"&gt;Twitter for iPhone&lt;/a&gt;</td>\n",
       "      <td>This is Phineas. He's a mystical boy. Only ever appears in the hole of a donut. 13/10 https://t.co/MgUWQ76dJU</td>\n",
       "      <td>NaN</td>\n",
       "      <td>NaN</td>\n",
       "      <td>NaN</td>\n",
       "      <td>https://twitter.com/dog_rates/status/892420643555336193/photo/1</td>\n",
       "      <td>13</td>\n",
       "      <td>10</td>\n",
       "      <td>Phineas</td>\n",
       "      <td>None</td>\n",
       "      <td>None</td>\n",
       "      <td>None</td>\n",
       "      <td>None</td>\n",
       "    </tr>\n",
       "  </tbody>\n",
       "</table>\n",
       "</div>"
      ],
      "text/plain": [
       "             tweet_id  in_reply_to_status_id  in_reply_to_user_id  \\\n",
       "0  892420643555336193                    NaN                  NaN   \n",
       "\n",
       "                   timestamp  \\\n",
       "0  2017-08-01 16:23:56 +0000   \n",
       "\n",
       "                                                                               source  \\\n",
       "0  <a href=\"http://twitter.com/download/iphone\" rel=\"nofollow\">Twitter for iPhone</a>   \n",
       "\n",
       "                                                                                                            text  \\\n",
       "0  This is Phineas. He's a mystical boy. Only ever appears in the hole of a donut. 13/10 https://t.co/MgUWQ76dJU   \n",
       "\n",
       "   retweeted_status_id  retweeted_status_user_id retweeted_status_timestamp  \\\n",
       "0                  NaN                       NaN                        NaN   \n",
       "\n",
       "                                                     expanded_urls  \\\n",
       "0  https://twitter.com/dog_rates/status/892420643555336193/photo/1   \n",
       "\n",
       "   rating_numerator  rating_denominator     name doggo floofer pupper puppo  \n",
       "0                13                  10  Phineas  None    None   None  None  "
      ]
     },
     "execution_count": 3,
     "metadata": {},
     "output_type": "execute_result"
    }
   ],
   "source": [
    "# Load the giveb enhanced twitter archive file and view the first observation\n",
    "twitter_archive = pd.read_csv(\"twitter-archive-enhanced.csv\") \n",
    "twitter_archive.head(1)"
   ]
  },
  {
   "cell_type": "markdown",
   "metadata": {},
   "source": [
    "2. Use the Requests library to download the tweet image prediction (image_predictions.tsv)"
   ]
  },
  {
   "cell_type": "code",
   "execution_count": 4,
   "metadata": {},
   "outputs": [],
   "source": [
    "# Use the requests library to download the file\n",
    "url = 'https://d17h27t6h515a5.cloudfront.net/topher/2017/August/599fd2ad_image-predictions/image-predictions.tsv'\n",
    "response = requests.get(url)"
   ]
  },
  {
   "cell_type": "code",
   "execution_count": 5,
   "metadata": {},
   "outputs": [],
   "source": [
    "# Place the content of the file from the internet, on a new file on the jupyter workspace\n",
    "with open('image-predictions.tsv', mode = 'wb') as file:\n",
    "    file.write(response.content)"
   ]
  },
  {
   "cell_type": "code",
   "execution_count": 6,
   "metadata": {},
   "outputs": [
    {
     "data": {
      "text/html": [
       "<div>\n",
       "<style scoped>\n",
       "    .dataframe tbody tr th:only-of-type {\n",
       "        vertical-align: middle;\n",
       "    }\n",
       "\n",
       "    .dataframe tbody tr th {\n",
       "        vertical-align: top;\n",
       "    }\n",
       "\n",
       "    .dataframe thead th {\n",
       "        text-align: right;\n",
       "    }\n",
       "</style>\n",
       "<table border=\"1\" class=\"dataframe\">\n",
       "  <thead>\n",
       "    <tr style=\"text-align: right;\">\n",
       "      <th></th>\n",
       "      <th>tweet_id</th>\n",
       "      <th>jpg_url</th>\n",
       "      <th>img_num</th>\n",
       "      <th>p1</th>\n",
       "      <th>p1_conf</th>\n",
       "      <th>p1_dog</th>\n",
       "      <th>p2</th>\n",
       "      <th>p2_conf</th>\n",
       "      <th>p2_dog</th>\n",
       "      <th>p3</th>\n",
       "      <th>p3_conf</th>\n",
       "      <th>p3_dog</th>\n",
       "    </tr>\n",
       "  </thead>\n",
       "  <tbody>\n",
       "    <tr>\n",
       "      <th>0</th>\n",
       "      <td>666020888022790149</td>\n",
       "      <td>https://pbs.twimg.com/media/CT4udn0WwAA0aMy.jpg</td>\n",
       "      <td>1</td>\n",
       "      <td>Welsh_springer_spaniel</td>\n",
       "      <td>0.465074</td>\n",
       "      <td>True</td>\n",
       "      <td>collie</td>\n",
       "      <td>0.156665</td>\n",
       "      <td>True</td>\n",
       "      <td>Shetland_sheepdog</td>\n",
       "      <td>0.061428</td>\n",
       "      <td>True</td>\n",
       "    </tr>\n",
       "  </tbody>\n",
       "</table>\n",
       "</div>"
      ],
      "text/plain": [
       "             tweet_id                                          jpg_url  \\\n",
       "0  666020888022790149  https://pbs.twimg.com/media/CT4udn0WwAA0aMy.jpg   \n",
       "\n",
       "   img_num                      p1   p1_conf  p1_dog      p2   p2_conf  \\\n",
       "0        1  Welsh_springer_spaniel  0.465074    True  collie  0.156665   \n",
       "\n",
       "   p2_dog                 p3   p3_conf  p3_dog  \n",
       "0    True  Shetland_sheepdog  0.061428    True  "
      ]
     },
     "execution_count": 6,
     "metadata": {},
     "output_type": "execute_result"
    }
   ],
   "source": [
    "# Read the file and place it inside a data frame\n",
    "image_prediction = pd.read_csv('image-predictions.tsv', sep = '\\t')\n",
    "image_prediction.head(1)"
   ]
  },
  {
   "cell_type": "markdown",
   "metadata": {},
   "source": [
    "3. Use the Tweepy library to query additional data via the Twitter API (tweet_json.txt)"
   ]
  },
  {
   "cell_type": "code",
   "execution_count": null,
   "metadata": {},
   "outputs": [],
   "source": [
    "# First we will install the updated version of tweepy. The -U means that if the package already exists, it will be updated\n",
    "!pip install -U tweepy=r=4.0"
   ]
  },
  {
   "cell_type": "code",
   "execution_count": null,
   "metadata": {},
   "outputs": [],
   "source": [
    "# Then we will create our tweepy.API instance\n",
    "consumer_key = '---------' # put here your API Key\n",
    "consumer_secret = '--------' # put here your API Key Secret\n",
    "access_token = '-------------' # put here your Access Token\n",
    "access_secret = '-------------' # put here your Access Secret"
   ]
  },
  {
   "cell_type": "code",
   "execution_count": null,
   "metadata": {},
   "outputs": [],
   "source": [
    "auth = tweepy.OAuthHandler(consumer_key, consumer_secret)\n",
    "auth.set_access_token(access_token, access_secret)\n",
    "\n",
    "api = tweepy.API(auth, wait_on_rate_limit=True)"
   ]
  },
  {
   "cell_type": "code",
   "execution_count": null,
   "metadata": {},
   "outputs": [],
   "source": [
    "# Store all the tweet_id values that we have from the first file inside a variable\n",
    "tweet_ids = twitter_archive.tweet_id.values\n",
    "len(tweet_ids)"
   ]
  },
  {
   "cell_type": "code",
   "execution_count": null,
   "metadata": {},
   "outputs": [],
   "source": [
    "%%time\n",
    "\n",
    "# Query Twitter's API for JSON data for each tweet ID in the Twitter archive\n",
    "count = 0\n",
    "fails_dict = {}\n",
    "# Save each tweet's returned JSON as a new line in a .txt file\n",
    "with open('tweet_json.txt', 'w') as outfile:\n",
    "    # This loop will likely take 20-30 minutes to run because of Twitter's rate limit\n",
    "    for tweet_id in tweet_ids:\n",
    "        count += 1\n",
    "        print(str(count) + \": \" + str(tweet_id))\n",
    "        try:\n",
    "            tweet = api.get_status(tweet_id, tweet_mode='extended')\n",
    "            json.dump(tweet._json, outfile)\n",
    "            print(\"Success\")\n",
    "            outfile.write('\\n')\n",
    "        except Exception as e:\n",
    "            print(\"Fail\")\n",
    "            fails_dict[tweet_id] = e\n",
    "        \n",
    "\n",
    "print(fails_dict)"
   ]
  },
  {
   "cell_type": "code",
   "execution_count": 7,
   "metadata": {},
   "outputs": [],
   "source": [
    "# Read the JSON file into a data frame and create a data frame only with the columns “tweet ID”, “retweet count”, and “favorite count”\n",
    "df_API = []\n",
    "\n",
    "with open('tweet_json.txt', 'r', encoding='utf8') as file:\n",
    "    for line in file:\n",
    "        lines = json.loads(line)\n",
    "        df_API.append({'tweet_id': lines['id'],\n",
    "                        'favorites': lines['favorite_count'],\n",
    "                        'retweets': lines['retweet_count'],\n",
    "                        'timestamp': lines['created_at']})\n",
    "twitter_archive_2 = pd.DataFrame(df_API, columns=['tweet_id','timestamp','favorites','retweets'])"
   ]
  },
  {
   "cell_type": "code",
   "execution_count": 8,
   "metadata": {},
   "outputs": [
    {
     "data": {
      "text/html": [
       "<div>\n",
       "<style scoped>\n",
       "    .dataframe tbody tr th:only-of-type {\n",
       "        vertical-align: middle;\n",
       "    }\n",
       "\n",
       "    .dataframe tbody tr th {\n",
       "        vertical-align: top;\n",
       "    }\n",
       "\n",
       "    .dataframe thead th {\n",
       "        text-align: right;\n",
       "    }\n",
       "</style>\n",
       "<table border=\"1\" class=\"dataframe\">\n",
       "  <thead>\n",
       "    <tr style=\"text-align: right;\">\n",
       "      <th></th>\n",
       "      <th>tweet_id</th>\n",
       "      <th>timestamp</th>\n",
       "      <th>favorites</th>\n",
       "      <th>retweets</th>\n",
       "    </tr>\n",
       "  </thead>\n",
       "  <tbody>\n",
       "    <tr>\n",
       "      <th>0</th>\n",
       "      <td>892420643555336193</td>\n",
       "      <td>Tue Aug 01 16:23:56 +0000 2017</td>\n",
       "      <td>39467</td>\n",
       "      <td>8853</td>\n",
       "    </tr>\n",
       "  </tbody>\n",
       "</table>\n",
       "</div>"
      ],
      "text/plain": [
       "             tweet_id                       timestamp  favorites  retweets\n",
       "0  892420643555336193  Tue Aug 01 16:23:56 +0000 2017      39467      8853"
      ]
     },
     "execution_count": 8,
     "metadata": {},
     "output_type": "execute_result"
    }
   ],
   "source": [
    "twitter_archive_2.head(1)"
   ]
  },
  {
   "cell_type": "markdown",
   "metadata": {},
   "source": [
    "3. Organize the data joining all 3 datasets into one data frame. Because not all our data frames are equal it’s better to use a left join to preserve all the data before the assessment. "
   ]
  },
  {
   "cell_type": "markdown",
   "metadata": {
    "extensions": {
     "jupyter_dashboards": {
      "version": 1,
      "views": {
       "grid_default": {
        "col": 4,
        "height": 4,
        "hidden": false,
        "row": 28,
        "width": 4
       },
       "report_default": {
        "hidden": false
       }
      }
     }
    }
   },
   "source": [
    "## Assessing Data\n",
    "In this section, detect and document at least **eight (8) quality issues and two (2) tidiness issue**. You must use **both** visual assessment\n",
    "programmatic assessement to assess the data.\n",
    "\n",
    "**Note:** pay attention to the following key points when you access the data.\n",
    "\n",
    "* You only want original ratings (no retweets) that have images. Though there are 5000+ tweets in the dataset, not all are dog ratings and some are retweets.\n",
    "* Assessing and cleaning the entire dataset completely would require a lot of time, and is not necessary to practice and demonstrate your skills in data wrangling. Therefore, the requirements of this project are only to assess and clean at least 8 quality issues and at least 2 tidiness issues in this dataset.\n",
    "* The fact that the rating numerators are greater than the denominators does not need to be cleaned. This [unique rating system](http://knowyourmeme.com/memes/theyre-good-dogs-brent) is a big part of the popularity of WeRateDogs.\n",
    "* You do not need to gather the tweets beyond August 1st, 2017. You can, but note that you won't be able to gather the image predictions for these tweets since you don't have access to the algorithm used.\n",
    "\n"
   ]
  },
  {
   "cell_type": "markdown",
   "metadata": {},
   "source": [
    "Organize the data joining all 3 datasets into one data frame. Because we want only tweets with images, we will use an inner join and lose the tweets without images, which are not in the file of the predictions.   "
   ]
  },
  {
   "cell_type": "code",
   "execution_count": 9,
   "metadata": {},
   "outputs": [],
   "source": [
    "df_all_data = twitter_archive.merge(image_prediction, on ='tweet_id', how ='inner').merge(twitter_archive_2,on ='tweet_id', how ='inner')"
   ]
  },
  {
   "cell_type": "code",
   "execution_count": 10,
   "metadata": {},
   "outputs": [
    {
     "data": {
      "text/html": [
       "<div>\n",
       "<style scoped>\n",
       "    .dataframe tbody tr th:only-of-type {\n",
       "        vertical-align: middle;\n",
       "    }\n",
       "\n",
       "    .dataframe tbody tr th {\n",
       "        vertical-align: top;\n",
       "    }\n",
       "\n",
       "    .dataframe thead th {\n",
       "        text-align: right;\n",
       "    }\n",
       "</style>\n",
       "<table border=\"1\" class=\"dataframe\">\n",
       "  <thead>\n",
       "    <tr style=\"text-align: right;\">\n",
       "      <th></th>\n",
       "      <th>tweet_id</th>\n",
       "      <th>in_reply_to_status_id</th>\n",
       "      <th>in_reply_to_user_id</th>\n",
       "      <th>timestamp_x</th>\n",
       "      <th>source</th>\n",
       "      <th>text</th>\n",
       "      <th>retweeted_status_id</th>\n",
       "      <th>retweeted_status_user_id</th>\n",
       "      <th>retweeted_status_timestamp</th>\n",
       "      <th>expanded_urls</th>\n",
       "      <th>rating_numerator</th>\n",
       "      <th>rating_denominator</th>\n",
       "      <th>name</th>\n",
       "      <th>doggo</th>\n",
       "      <th>floofer</th>\n",
       "      <th>pupper</th>\n",
       "      <th>puppo</th>\n",
       "      <th>jpg_url</th>\n",
       "      <th>img_num</th>\n",
       "      <th>p1</th>\n",
       "      <th>p1_conf</th>\n",
       "      <th>p1_dog</th>\n",
       "      <th>p2</th>\n",
       "      <th>p2_conf</th>\n",
       "      <th>p2_dog</th>\n",
       "      <th>p3</th>\n",
       "      <th>p3_conf</th>\n",
       "      <th>p3_dog</th>\n",
       "      <th>timestamp_y</th>\n",
       "      <th>favorites</th>\n",
       "      <th>retweets</th>\n",
       "    </tr>\n",
       "  </thead>\n",
       "  <tbody>\n",
       "    <tr>\n",
       "      <th>0</th>\n",
       "      <td>892420643555336193</td>\n",
       "      <td>NaN</td>\n",
       "      <td>NaN</td>\n",
       "      <td>2017-08-01 16:23:56 +0000</td>\n",
       "      <td>&lt;a href=\"http://twitter.com/download/iphone\" rel=\"nofollow\"&gt;Twitter for iPhone&lt;/a&gt;</td>\n",
       "      <td>This is Phineas. He's a mystical boy. Only ever appears in the hole of a donut. 13/10 https://t.co/MgUWQ76dJU</td>\n",
       "      <td>NaN</td>\n",
       "      <td>NaN</td>\n",
       "      <td>NaN</td>\n",
       "      <td>https://twitter.com/dog_rates/status/892420643555336193/photo/1</td>\n",
       "      <td>13</td>\n",
       "      <td>10</td>\n",
       "      <td>Phineas</td>\n",
       "      <td>None</td>\n",
       "      <td>None</td>\n",
       "      <td>None</td>\n",
       "      <td>None</td>\n",
       "      <td>https://pbs.twimg.com/media/DGKD1-bXoAAIAUK.jpg</td>\n",
       "      <td>1</td>\n",
       "      <td>orange</td>\n",
       "      <td>0.097049</td>\n",
       "      <td>False</td>\n",
       "      <td>bagel</td>\n",
       "      <td>0.085851</td>\n",
       "      <td>False</td>\n",
       "      <td>banana</td>\n",
       "      <td>0.07611</td>\n",
       "      <td>False</td>\n",
       "      <td>Tue Aug 01 16:23:56 +0000 2017</td>\n",
       "      <td>39467</td>\n",
       "      <td>8853</td>\n",
       "    </tr>\n",
       "  </tbody>\n",
       "</table>\n",
       "</div>"
      ],
      "text/plain": [
       "             tweet_id  in_reply_to_status_id  in_reply_to_user_id  \\\n",
       "0  892420643555336193                    NaN                  NaN   \n",
       "\n",
       "                 timestamp_x  \\\n",
       "0  2017-08-01 16:23:56 +0000   \n",
       "\n",
       "                                                                               source  \\\n",
       "0  <a href=\"http://twitter.com/download/iphone\" rel=\"nofollow\">Twitter for iPhone</a>   \n",
       "\n",
       "                                                                                                            text  \\\n",
       "0  This is Phineas. He's a mystical boy. Only ever appears in the hole of a donut. 13/10 https://t.co/MgUWQ76dJU   \n",
       "\n",
       "   retweeted_status_id  retweeted_status_user_id retweeted_status_timestamp  \\\n",
       "0                  NaN                       NaN                        NaN   \n",
       "\n",
       "                                                     expanded_urls  \\\n",
       "0  https://twitter.com/dog_rates/status/892420643555336193/photo/1   \n",
       "\n",
       "   rating_numerator  rating_denominator     name doggo floofer pupper puppo  \\\n",
       "0                13                  10  Phineas  None    None   None  None   \n",
       "\n",
       "                                           jpg_url  img_num      p1   p1_conf  \\\n",
       "0  https://pbs.twimg.com/media/DGKD1-bXoAAIAUK.jpg        1  orange  0.097049   \n",
       "\n",
       "   p1_dog     p2   p2_conf  p2_dog      p3  p3_conf  p3_dog  \\\n",
       "0   False  bagel  0.085851   False  banana  0.07611   False   \n",
       "\n",
       "                      timestamp_y  favorites  retweets  \n",
       "0  Tue Aug 01 16:23:56 +0000 2017      39467      8853  "
      ]
     },
     "execution_count": 10,
     "metadata": {},
     "output_type": "execute_result"
    }
   ],
   "source": [
    "df_all_data.head(1)"
   ]
  },
  {
   "cell_type": "code",
   "execution_count": 11,
   "metadata": {},
   "outputs": [
    {
     "name": "stdout",
     "output_type": "stream",
     "text": [
      "The shape of the final dataset:  (2073, 31)\n",
      "The shape of the twitter archive dataset:  (2356, 17)\n",
      "The shape of the image prediction dataset:  (2075, 12)\n",
      "The shape of the API dataset:  (2354, 4)\n"
     ]
    }
   ],
   "source": [
    "# Check the number of rows and columns \n",
    "\n",
    "print('The shape of the final dataset: ', df_all_data.shape)\n",
    "print('The shape of the twitter archive dataset: ', twitter_archive.shape)\n",
    "print('The shape of the image prediction dataset: ', image_prediction.shape)\n",
    "print('The shape of the API dataset: ', twitter_archive_2.shape)"
   ]
  },
  {
   "cell_type": "code",
   "execution_count": 12,
   "metadata": {},
   "outputs": [],
   "source": [
    "# Save the new data frame as a csv file\n",
    "df_all_data.to_csv('all_data.csv', index=False)"
   ]
  },
  {
   "cell_type": "markdown",
   "metadata": {},
   "source": [
    "Now we have one dataframe, with all the data from the 3 files, and can assess the data: visually and programmatically. "
   ]
  },
  {
   "cell_type": "code",
   "execution_count": 13,
   "metadata": {},
   "outputs": [
    {
     "data": {
      "text/html": [
       "<div>\n",
       "<style scoped>\n",
       "    .dataframe tbody tr th:only-of-type {\n",
       "        vertical-align: middle;\n",
       "    }\n",
       "\n",
       "    .dataframe tbody tr th {\n",
       "        vertical-align: top;\n",
       "    }\n",
       "\n",
       "    .dataframe thead th {\n",
       "        text-align: right;\n",
       "    }\n",
       "</style>\n",
       "<table border=\"1\" class=\"dataframe\">\n",
       "  <thead>\n",
       "    <tr style=\"text-align: right;\">\n",
       "      <th></th>\n",
       "      <th>tweet_id</th>\n",
       "      <th>in_reply_to_status_id</th>\n",
       "      <th>in_reply_to_user_id</th>\n",
       "      <th>timestamp_x</th>\n",
       "      <th>source</th>\n",
       "      <th>text</th>\n",
       "      <th>retweeted_status_id</th>\n",
       "      <th>retweeted_status_user_id</th>\n",
       "      <th>retweeted_status_timestamp</th>\n",
       "      <th>expanded_urls</th>\n",
       "      <th>rating_numerator</th>\n",
       "      <th>rating_denominator</th>\n",
       "      <th>name</th>\n",
       "      <th>doggo</th>\n",
       "      <th>floofer</th>\n",
       "      <th>pupper</th>\n",
       "      <th>puppo</th>\n",
       "      <th>jpg_url</th>\n",
       "      <th>img_num</th>\n",
       "      <th>p1</th>\n",
       "      <th>p1_conf</th>\n",
       "      <th>p1_dog</th>\n",
       "      <th>p2</th>\n",
       "      <th>p2_conf</th>\n",
       "      <th>p2_dog</th>\n",
       "      <th>p3</th>\n",
       "      <th>p3_conf</th>\n",
       "      <th>p3_dog</th>\n",
       "      <th>timestamp_y</th>\n",
       "      <th>favorites</th>\n",
       "      <th>retweets</th>\n",
       "    </tr>\n",
       "  </thead>\n",
       "  <tbody>\n",
       "    <tr>\n",
       "      <th>0</th>\n",
       "      <td>892420643555336193</td>\n",
       "      <td>NaN</td>\n",
       "      <td>NaN</td>\n",
       "      <td>2017-08-01 16:23:56 +0000</td>\n",
       "      <td>&lt;a href=\"http://twitter.com/download/iphone\" rel=\"nofollow\"&gt;Twitter for iPhone&lt;/a&gt;</td>\n",
       "      <td>This is Phineas. He's a mystical boy. Only ever appears in the hole of a donut. 13/10 https://t.co/MgUWQ76dJU</td>\n",
       "      <td>NaN</td>\n",
       "      <td>NaN</td>\n",
       "      <td>NaN</td>\n",
       "      <td>https://twitter.com/dog_rates/status/892420643555336193/photo/1</td>\n",
       "      <td>13</td>\n",
       "      <td>10</td>\n",
       "      <td>Phineas</td>\n",
       "      <td>None</td>\n",
       "      <td>None</td>\n",
       "      <td>None</td>\n",
       "      <td>None</td>\n",
       "      <td>https://pbs.twimg.com/media/DGKD1-bXoAAIAUK.jpg</td>\n",
       "      <td>1</td>\n",
       "      <td>orange</td>\n",
       "      <td>0.097049</td>\n",
       "      <td>False</td>\n",
       "      <td>bagel</td>\n",
       "      <td>0.085851</td>\n",
       "      <td>False</td>\n",
       "      <td>banana</td>\n",
       "      <td>0.076110</td>\n",
       "      <td>False</td>\n",
       "      <td>Tue Aug 01 16:23:56 +0000 2017</td>\n",
       "      <td>39467</td>\n",
       "      <td>8853</td>\n",
       "    </tr>\n",
       "    <tr>\n",
       "      <th>1</th>\n",
       "      <td>892177421306343426</td>\n",
       "      <td>NaN</td>\n",
       "      <td>NaN</td>\n",
       "      <td>2017-08-01 00:17:27 +0000</td>\n",
       "      <td>&lt;a href=\"http://twitter.com/download/iphone\" rel=\"nofollow\"&gt;Twitter for iPhone&lt;/a&gt;</td>\n",
       "      <td>This is Tilly. She's just checking pup on you. Hopes you're doing ok. If not, she's available for pats, snugs, boops, the whole bit. 13/10 https://t.co/0Xxu71qeIV</td>\n",
       "      <td>NaN</td>\n",
       "      <td>NaN</td>\n",
       "      <td>NaN</td>\n",
       "      <td>https://twitter.com/dog_rates/status/892177421306343426/photo/1</td>\n",
       "      <td>13</td>\n",
       "      <td>10</td>\n",
       "      <td>Tilly</td>\n",
       "      <td>None</td>\n",
       "      <td>None</td>\n",
       "      <td>None</td>\n",
       "      <td>None</td>\n",
       "      <td>https://pbs.twimg.com/media/DGGmoV4XsAAUL6n.jpg</td>\n",
       "      <td>1</td>\n",
       "      <td>Chihuahua</td>\n",
       "      <td>0.323581</td>\n",
       "      <td>True</td>\n",
       "      <td>Pekinese</td>\n",
       "      <td>0.090647</td>\n",
       "      <td>True</td>\n",
       "      <td>papillon</td>\n",
       "      <td>0.068957</td>\n",
       "      <td>True</td>\n",
       "      <td>Tue Aug 01 00:17:27 +0000 2017</td>\n",
       "      <td>33819</td>\n",
       "      <td>6514</td>\n",
       "    </tr>\n",
       "    <tr>\n",
       "      <th>2</th>\n",
       "      <td>891815181378084864</td>\n",
       "      <td>NaN</td>\n",
       "      <td>NaN</td>\n",
       "      <td>2017-07-31 00:18:03 +0000</td>\n",
       "      <td>&lt;a href=\"http://twitter.com/download/iphone\" rel=\"nofollow\"&gt;Twitter for iPhone&lt;/a&gt;</td>\n",
       "      <td>This is Archie. He is a rare Norwegian Pouncing Corgo. Lives in the tall grass. You never know when one may strike. 12/10 https://t.co/wUnZnhtVJB</td>\n",
       "      <td>NaN</td>\n",
       "      <td>NaN</td>\n",
       "      <td>NaN</td>\n",
       "      <td>https://twitter.com/dog_rates/status/891815181378084864/photo/1</td>\n",
       "      <td>12</td>\n",
       "      <td>10</td>\n",
       "      <td>Archie</td>\n",
       "      <td>None</td>\n",
       "      <td>None</td>\n",
       "      <td>None</td>\n",
       "      <td>None</td>\n",
       "      <td>https://pbs.twimg.com/media/DGBdLU1WsAANxJ9.jpg</td>\n",
       "      <td>1</td>\n",
       "      <td>Chihuahua</td>\n",
       "      <td>0.716012</td>\n",
       "      <td>True</td>\n",
       "      <td>malamute</td>\n",
       "      <td>0.078253</td>\n",
       "      <td>True</td>\n",
       "      <td>kelpie</td>\n",
       "      <td>0.031379</td>\n",
       "      <td>True</td>\n",
       "      <td>Mon Jul 31 00:18:03 +0000 2017</td>\n",
       "      <td>25461</td>\n",
       "      <td>4328</td>\n",
       "    </tr>\n",
       "  </tbody>\n",
       "</table>\n",
       "</div>"
      ],
      "text/plain": [
       "             tweet_id  in_reply_to_status_id  in_reply_to_user_id  \\\n",
       "0  892420643555336193                    NaN                  NaN   \n",
       "1  892177421306343426                    NaN                  NaN   \n",
       "2  891815181378084864                    NaN                  NaN   \n",
       "\n",
       "                 timestamp_x  \\\n",
       "0  2017-08-01 16:23:56 +0000   \n",
       "1  2017-08-01 00:17:27 +0000   \n",
       "2  2017-07-31 00:18:03 +0000   \n",
       "\n",
       "                                                                               source  \\\n",
       "0  <a href=\"http://twitter.com/download/iphone\" rel=\"nofollow\">Twitter for iPhone</a>   \n",
       "1  <a href=\"http://twitter.com/download/iphone\" rel=\"nofollow\">Twitter for iPhone</a>   \n",
       "2  <a href=\"http://twitter.com/download/iphone\" rel=\"nofollow\">Twitter for iPhone</a>   \n",
       "\n",
       "                                                                                                                                                                 text  \\\n",
       "0                                                       This is Phineas. He's a mystical boy. Only ever appears in the hole of a donut. 13/10 https://t.co/MgUWQ76dJU   \n",
       "1  This is Tilly. She's just checking pup on you. Hopes you're doing ok. If not, she's available for pats, snugs, boops, the whole bit. 13/10 https://t.co/0Xxu71qeIV   \n",
       "2                   This is Archie. He is a rare Norwegian Pouncing Corgo. Lives in the tall grass. You never know when one may strike. 12/10 https://t.co/wUnZnhtVJB   \n",
       "\n",
       "   retweeted_status_id  retweeted_status_user_id retweeted_status_timestamp  \\\n",
       "0                  NaN                       NaN                        NaN   \n",
       "1                  NaN                       NaN                        NaN   \n",
       "2                  NaN                       NaN                        NaN   \n",
       "\n",
       "                                                     expanded_urls  \\\n",
       "0  https://twitter.com/dog_rates/status/892420643555336193/photo/1   \n",
       "1  https://twitter.com/dog_rates/status/892177421306343426/photo/1   \n",
       "2  https://twitter.com/dog_rates/status/891815181378084864/photo/1   \n",
       "\n",
       "   rating_numerator  rating_denominator     name doggo floofer pupper puppo  \\\n",
       "0                13                  10  Phineas  None    None   None  None   \n",
       "1                13                  10    Tilly  None    None   None  None   \n",
       "2                12                  10   Archie  None    None   None  None   \n",
       "\n",
       "                                           jpg_url  img_num         p1  \\\n",
       "0  https://pbs.twimg.com/media/DGKD1-bXoAAIAUK.jpg        1     orange   \n",
       "1  https://pbs.twimg.com/media/DGGmoV4XsAAUL6n.jpg        1  Chihuahua   \n",
       "2  https://pbs.twimg.com/media/DGBdLU1WsAANxJ9.jpg        1  Chihuahua   \n",
       "\n",
       "    p1_conf  p1_dog        p2   p2_conf  p2_dog        p3   p3_conf  p3_dog  \\\n",
       "0  0.097049   False     bagel  0.085851   False    banana  0.076110   False   \n",
       "1  0.323581    True  Pekinese  0.090647    True  papillon  0.068957    True   \n",
       "2  0.716012    True  malamute  0.078253    True    kelpie  0.031379    True   \n",
       "\n",
       "                      timestamp_y  favorites  retweets  \n",
       "0  Tue Aug 01 16:23:56 +0000 2017      39467      8853  \n",
       "1  Tue Aug 01 00:17:27 +0000 2017      33819      6514  \n",
       "2  Mon Jul 31 00:18:03 +0000 2017      25461      4328  "
      ]
     },
     "execution_count": 13,
     "metadata": {},
     "output_type": "execute_result"
    }
   ],
   "source": [
    "# Load the merged twitter data file and view the first and last three observations\n",
    "twitter_data = pd.read_csv(\"all_data.csv\") \n",
    "twitter_data.head(3)"
   ]
  },
  {
   "cell_type": "code",
   "execution_count": 14,
   "metadata": {},
   "outputs": [
    {
     "data": {
      "text/html": [
       "<div>\n",
       "<style scoped>\n",
       "    .dataframe tbody tr th:only-of-type {\n",
       "        vertical-align: middle;\n",
       "    }\n",
       "\n",
       "    .dataframe tbody tr th {\n",
       "        vertical-align: top;\n",
       "    }\n",
       "\n",
       "    .dataframe thead th {\n",
       "        text-align: right;\n",
       "    }\n",
       "</style>\n",
       "<table border=\"1\" class=\"dataframe\">\n",
       "  <thead>\n",
       "    <tr style=\"text-align: right;\">\n",
       "      <th></th>\n",
       "      <th>tweet_id</th>\n",
       "      <th>in_reply_to_status_id</th>\n",
       "      <th>in_reply_to_user_id</th>\n",
       "      <th>timestamp_x</th>\n",
       "      <th>source</th>\n",
       "      <th>text</th>\n",
       "      <th>retweeted_status_id</th>\n",
       "      <th>retweeted_status_user_id</th>\n",
       "      <th>retweeted_status_timestamp</th>\n",
       "      <th>expanded_urls</th>\n",
       "      <th>rating_numerator</th>\n",
       "      <th>rating_denominator</th>\n",
       "      <th>name</th>\n",
       "      <th>doggo</th>\n",
       "      <th>floofer</th>\n",
       "      <th>pupper</th>\n",
       "      <th>puppo</th>\n",
       "      <th>jpg_url</th>\n",
       "      <th>img_num</th>\n",
       "      <th>p1</th>\n",
       "      <th>p1_conf</th>\n",
       "      <th>p1_dog</th>\n",
       "      <th>p2</th>\n",
       "      <th>p2_conf</th>\n",
       "      <th>p2_dog</th>\n",
       "      <th>p3</th>\n",
       "      <th>p3_conf</th>\n",
       "      <th>p3_dog</th>\n",
       "      <th>timestamp_y</th>\n",
       "      <th>favorites</th>\n",
       "      <th>retweets</th>\n",
       "    </tr>\n",
       "  </thead>\n",
       "  <tbody>\n",
       "    <tr>\n",
       "      <th>2070</th>\n",
       "      <td>666033412701032449</td>\n",
       "      <td>NaN</td>\n",
       "      <td>NaN</td>\n",
       "      <td>2015-11-15 23:21:54 +0000</td>\n",
       "      <td>&lt;a href=\"http://twitter.com/download/iphone\" rel=\"nofollow\"&gt;Twitter for iPhone&lt;/a&gt;</td>\n",
       "      <td>Here is a very happy pup. Big fan of well-maintained decks. Just look at that tongue. 9/10 would cuddle af https://t.co/y671yMhoiR</td>\n",
       "      <td>NaN</td>\n",
       "      <td>NaN</td>\n",
       "      <td>NaN</td>\n",
       "      <td>https://twitter.com/dog_rates/status/666033412701032449/photo/1</td>\n",
       "      <td>9</td>\n",
       "      <td>10</td>\n",
       "      <td>a</td>\n",
       "      <td>None</td>\n",
       "      <td>None</td>\n",
       "      <td>None</td>\n",
       "      <td>None</td>\n",
       "      <td>https://pbs.twimg.com/media/CT4521TWwAEvMyu.jpg</td>\n",
       "      <td>1</td>\n",
       "      <td>German_shepherd</td>\n",
       "      <td>0.596461</td>\n",
       "      <td>True</td>\n",
       "      <td>malinois</td>\n",
       "      <td>0.138584</td>\n",
       "      <td>True</td>\n",
       "      <td>bloodhound</td>\n",
       "      <td>0.116197</td>\n",
       "      <td>True</td>\n",
       "      <td>Sun Nov 15 23:21:54 +0000 2015</td>\n",
       "      <td>128</td>\n",
       "      <td>47</td>\n",
       "    </tr>\n",
       "    <tr>\n",
       "      <th>2071</th>\n",
       "      <td>666029285002620928</td>\n",
       "      <td>NaN</td>\n",
       "      <td>NaN</td>\n",
       "      <td>2015-11-15 23:05:30 +0000</td>\n",
       "      <td>&lt;a href=\"http://twitter.com/download/iphone\" rel=\"nofollow\"&gt;Twitter for iPhone&lt;/a&gt;</td>\n",
       "      <td>This is a western brown Mitsubishi terrier. Upset about leaf. Actually 2 dogs here. 7/10 would walk the shit out of https://t.co/r7mOb2m0UI</td>\n",
       "      <td>NaN</td>\n",
       "      <td>NaN</td>\n",
       "      <td>NaN</td>\n",
       "      <td>https://twitter.com/dog_rates/status/666029285002620928/photo/1</td>\n",
       "      <td>7</td>\n",
       "      <td>10</td>\n",
       "      <td>a</td>\n",
       "      <td>None</td>\n",
       "      <td>None</td>\n",
       "      <td>None</td>\n",
       "      <td>None</td>\n",
       "      <td>https://pbs.twimg.com/media/CT42GRgUYAA5iDo.jpg</td>\n",
       "      <td>1</td>\n",
       "      <td>redbone</td>\n",
       "      <td>0.506826</td>\n",
       "      <td>True</td>\n",
       "      <td>miniature_pinscher</td>\n",
       "      <td>0.074192</td>\n",
       "      <td>True</td>\n",
       "      <td>Rhodesian_ridgeback</td>\n",
       "      <td>0.072010</td>\n",
       "      <td>True</td>\n",
       "      <td>Sun Nov 15 23:05:30 +0000 2015</td>\n",
       "      <td>132</td>\n",
       "      <td>48</td>\n",
       "    </tr>\n",
       "    <tr>\n",
       "      <th>2072</th>\n",
       "      <td>666020888022790149</td>\n",
       "      <td>NaN</td>\n",
       "      <td>NaN</td>\n",
       "      <td>2015-11-15 22:32:08 +0000</td>\n",
       "      <td>&lt;a href=\"http://twitter.com/download/iphone\" rel=\"nofollow\"&gt;Twitter for iPhone&lt;/a&gt;</td>\n",
       "      <td>Here we have a Japanese Irish Setter. Lost eye in Vietnam (?). Big fan of relaxing on stair. 8/10 would pet https://t.co/BLDqew2Ijj</td>\n",
       "      <td>NaN</td>\n",
       "      <td>NaN</td>\n",
       "      <td>NaN</td>\n",
       "      <td>https://twitter.com/dog_rates/status/666020888022790149/photo/1</td>\n",
       "      <td>8</td>\n",
       "      <td>10</td>\n",
       "      <td>None</td>\n",
       "      <td>None</td>\n",
       "      <td>None</td>\n",
       "      <td>None</td>\n",
       "      <td>None</td>\n",
       "      <td>https://pbs.twimg.com/media/CT4udn0WwAA0aMy.jpg</td>\n",
       "      <td>1</td>\n",
       "      <td>Welsh_springer_spaniel</td>\n",
       "      <td>0.465074</td>\n",
       "      <td>True</td>\n",
       "      <td>collie</td>\n",
       "      <td>0.156665</td>\n",
       "      <td>True</td>\n",
       "      <td>Shetland_sheepdog</td>\n",
       "      <td>0.061428</td>\n",
       "      <td>True</td>\n",
       "      <td>Sun Nov 15 22:32:08 +0000 2015</td>\n",
       "      <td>2535</td>\n",
       "      <td>532</td>\n",
       "    </tr>\n",
       "  </tbody>\n",
       "</table>\n",
       "</div>"
      ],
      "text/plain": [
       "                tweet_id  in_reply_to_status_id  in_reply_to_user_id  \\\n",
       "2070  666033412701032449                    NaN                  NaN   \n",
       "2071  666029285002620928                    NaN                  NaN   \n",
       "2072  666020888022790149                    NaN                  NaN   \n",
       "\n",
       "                    timestamp_x  \\\n",
       "2070  2015-11-15 23:21:54 +0000   \n",
       "2071  2015-11-15 23:05:30 +0000   \n",
       "2072  2015-11-15 22:32:08 +0000   \n",
       "\n",
       "                                                                                  source  \\\n",
       "2070  <a href=\"http://twitter.com/download/iphone\" rel=\"nofollow\">Twitter for iPhone</a>   \n",
       "2071  <a href=\"http://twitter.com/download/iphone\" rel=\"nofollow\">Twitter for iPhone</a>   \n",
       "2072  <a href=\"http://twitter.com/download/iphone\" rel=\"nofollow\">Twitter for iPhone</a>   \n",
       "\n",
       "                                                                                                                                             text  \\\n",
       "2070           Here is a very happy pup. Big fan of well-maintained decks. Just look at that tongue. 9/10 would cuddle af https://t.co/y671yMhoiR   \n",
       "2071  This is a western brown Mitsubishi terrier. Upset about leaf. Actually 2 dogs here. 7/10 would walk the shit out of https://t.co/r7mOb2m0UI   \n",
       "2072          Here we have a Japanese Irish Setter. Lost eye in Vietnam (?). Big fan of relaxing on stair. 8/10 would pet https://t.co/BLDqew2Ijj   \n",
       "\n",
       "      retweeted_status_id  retweeted_status_user_id  \\\n",
       "2070                  NaN                       NaN   \n",
       "2071                  NaN                       NaN   \n",
       "2072                  NaN                       NaN   \n",
       "\n",
       "     retweeted_status_timestamp  \\\n",
       "2070                        NaN   \n",
       "2071                        NaN   \n",
       "2072                        NaN   \n",
       "\n",
       "                                                        expanded_urls  \\\n",
       "2070  https://twitter.com/dog_rates/status/666033412701032449/photo/1   \n",
       "2071  https://twitter.com/dog_rates/status/666029285002620928/photo/1   \n",
       "2072  https://twitter.com/dog_rates/status/666020888022790149/photo/1   \n",
       "\n",
       "      rating_numerator  rating_denominator  name doggo floofer pupper puppo  \\\n",
       "2070                 9                  10     a  None    None   None  None   \n",
       "2071                 7                  10     a  None    None   None  None   \n",
       "2072                 8                  10  None  None    None   None  None   \n",
       "\n",
       "                                              jpg_url  img_num  \\\n",
       "2070  https://pbs.twimg.com/media/CT4521TWwAEvMyu.jpg        1   \n",
       "2071  https://pbs.twimg.com/media/CT42GRgUYAA5iDo.jpg        1   \n",
       "2072  https://pbs.twimg.com/media/CT4udn0WwAA0aMy.jpg        1   \n",
       "\n",
       "                          p1   p1_conf  p1_dog                  p2   p2_conf  \\\n",
       "2070         German_shepherd  0.596461    True            malinois  0.138584   \n",
       "2071                 redbone  0.506826    True  miniature_pinscher  0.074192   \n",
       "2072  Welsh_springer_spaniel  0.465074    True              collie  0.156665   \n",
       "\n",
       "      p2_dog                   p3   p3_conf  p3_dog  \\\n",
       "2070    True           bloodhound  0.116197    True   \n",
       "2071    True  Rhodesian_ridgeback  0.072010    True   \n",
       "2072    True    Shetland_sheepdog  0.061428    True   \n",
       "\n",
       "                         timestamp_y  favorites  retweets  \n",
       "2070  Sun Nov 15 23:21:54 +0000 2015        128        47  \n",
       "2071  Sun Nov 15 23:05:30 +0000 2015        132        48  \n",
       "2072  Sun Nov 15 22:32:08 +0000 2015       2535       532  "
      ]
     },
     "execution_count": 14,
     "metadata": {},
     "output_type": "execute_result"
    }
   ],
   "source": [
    "twitter_data.tail(3)"
   ]
  },
  {
   "cell_type": "code",
   "execution_count": 15,
   "metadata": {},
   "outputs": [
    {
     "data": {
      "text/html": [
       "<div>\n",
       "<style scoped>\n",
       "    .dataframe tbody tr th:only-of-type {\n",
       "        vertical-align: middle;\n",
       "    }\n",
       "\n",
       "    .dataframe tbody tr th {\n",
       "        vertical-align: top;\n",
       "    }\n",
       "\n",
       "    .dataframe thead th {\n",
       "        text-align: right;\n",
       "    }\n",
       "</style>\n",
       "<table border=\"1\" class=\"dataframe\">\n",
       "  <thead>\n",
       "    <tr style=\"text-align: right;\">\n",
       "      <th></th>\n",
       "      <th>tweet_id</th>\n",
       "      <th>in_reply_to_status_id</th>\n",
       "      <th>in_reply_to_user_id</th>\n",
       "      <th>timestamp_x</th>\n",
       "      <th>source</th>\n",
       "      <th>text</th>\n",
       "      <th>retweeted_status_id</th>\n",
       "      <th>retweeted_status_user_id</th>\n",
       "      <th>retweeted_status_timestamp</th>\n",
       "      <th>expanded_urls</th>\n",
       "      <th>rating_numerator</th>\n",
       "      <th>rating_denominator</th>\n",
       "      <th>name</th>\n",
       "      <th>doggo</th>\n",
       "      <th>floofer</th>\n",
       "      <th>pupper</th>\n",
       "      <th>puppo</th>\n",
       "      <th>jpg_url</th>\n",
       "      <th>img_num</th>\n",
       "      <th>p1</th>\n",
       "      <th>p1_conf</th>\n",
       "      <th>p1_dog</th>\n",
       "      <th>p2</th>\n",
       "      <th>p2_conf</th>\n",
       "      <th>p2_dog</th>\n",
       "      <th>p3</th>\n",
       "      <th>p3_conf</th>\n",
       "      <th>p3_dog</th>\n",
       "      <th>timestamp_y</th>\n",
       "      <th>favorites</th>\n",
       "      <th>retweets</th>\n",
       "    </tr>\n",
       "  </thead>\n",
       "  <tbody>\n",
       "    <tr>\n",
       "      <th>1705</th>\n",
       "      <td>672964561327235073</td>\n",
       "      <td>NaN</td>\n",
       "      <td>NaN</td>\n",
       "      <td>2015-12-05 02:23:49 +0000</td>\n",
       "      <td>&lt;a href=\"http://twitter.com/download/iphone\" rel=\"nofollow\"&gt;Twitter for iPhone&lt;/a&gt;</td>\n",
       "      <td>This is Terry. He's a Toasty Western Sriracha. Doubles as a table. Great for parties. 10/10 would highly recommend https://t.co/1ui7a1ZLTT</td>\n",
       "      <td>NaN</td>\n",
       "      <td>NaN</td>\n",
       "      <td>NaN</td>\n",
       "      <td>https://twitter.com/dog_rates/status/672964561327235073/photo/1</td>\n",
       "      <td>10</td>\n",
       "      <td>10</td>\n",
       "      <td>Terry</td>\n",
       "      <td>None</td>\n",
       "      <td>None</td>\n",
       "      <td>None</td>\n",
       "      <td>None</td>\n",
       "      <td>https://pbs.twimg.com/media/CVbZsouWUAIsxMc.jpg</td>\n",
       "      <td>1</td>\n",
       "      <td>Chihuahua</td>\n",
       "      <td>0.292343</td>\n",
       "      <td>True</td>\n",
       "      <td>pug</td>\n",
       "      <td>0.173364</td>\n",
       "      <td>True</td>\n",
       "      <td>French_bulldog</td>\n",
       "      <td>0.045507</td>\n",
       "      <td>True</td>\n",
       "      <td>Sat Dec 05 02:23:49 +0000 2015</td>\n",
       "      <td>1530</td>\n",
       "      <td>701</td>\n",
       "    </tr>\n",
       "    <tr>\n",
       "      <th>1238</th>\n",
       "      <td>694001791655137281</td>\n",
       "      <td>NaN</td>\n",
       "      <td>NaN</td>\n",
       "      <td>2016-02-01 03:38:15 +0000</td>\n",
       "      <td>&lt;a href=\"http://twitter.com/download/iphone\" rel=\"nofollow\"&gt;Twitter for iPhone&lt;/a&gt;</td>\n",
       "      <td>This is Chester. He's a Benefloof Cumberbark. Fabulous ears. Nifty shirt. Was probably on sale. Nice hardwood. 11/10 https://t.co/YoII7tWXMT</td>\n",
       "      <td>NaN</td>\n",
       "      <td>NaN</td>\n",
       "      <td>NaN</td>\n",
       "      <td>https://twitter.com/dog_rates/status/694001791655137281/photo/1,https://twitter.com/dog_rates/status/694001791655137281/photo/1</td>\n",
       "      <td>11</td>\n",
       "      <td>10</td>\n",
       "      <td>Chester</td>\n",
       "      <td>None</td>\n",
       "      <td>None</td>\n",
       "      <td>None</td>\n",
       "      <td>None</td>\n",
       "      <td>https://pbs.twimg.com/media/CaGW8JQUMAEVtLl.jpg</td>\n",
       "      <td>1</td>\n",
       "      <td>Pembroke</td>\n",
       "      <td>0.769999</td>\n",
       "      <td>True</td>\n",
       "      <td>Cardigan</td>\n",
       "      <td>0.229228</td>\n",
       "      <td>True</td>\n",
       "      <td>Chihuahua</td>\n",
       "      <td>0.000247</td>\n",
       "      <td>True</td>\n",
       "      <td>Mon Feb 01 03:38:15 +0000 2016</td>\n",
       "      <td>3705</td>\n",
       "      <td>1176</td>\n",
       "    </tr>\n",
       "    <tr>\n",
       "      <th>315</th>\n",
       "      <td>825535076884762624</td>\n",
       "      <td>NaN</td>\n",
       "      <td>NaN</td>\n",
       "      <td>2017-01-29 02:44:34 +0000</td>\n",
       "      <td>&lt;a href=\"http://twitter.com/download/iphone\" rel=\"nofollow\"&gt;Twitter for iPhone&lt;/a&gt;</td>\n",
       "      <td>Here's a very loving and accepting puppo. Appears to have read her Constitution well. 14/10 would pat head approvingly https://t.co/6ao80wIpV1</td>\n",
       "      <td>NaN</td>\n",
       "      <td>NaN</td>\n",
       "      <td>NaN</td>\n",
       "      <td>https://twitter.com/dog_rates/status/825535076884762624/photo/1</td>\n",
       "      <td>14</td>\n",
       "      <td>10</td>\n",
       "      <td>None</td>\n",
       "      <td>None</td>\n",
       "      <td>None</td>\n",
       "      <td>None</td>\n",
       "      <td>puppo</td>\n",
       "      <td>https://pbs.twimg.com/media/C3TjvitXAAAI-QH.jpg</td>\n",
       "      <td>1</td>\n",
       "      <td>Rottweiler</td>\n",
       "      <td>0.681495</td>\n",
       "      <td>True</td>\n",
       "      <td>Tibetan_mastiff</td>\n",
       "      <td>0.147940</td>\n",
       "      <td>True</td>\n",
       "      <td>black-and-tan_coonhound</td>\n",
       "      <td>0.024525</td>\n",
       "      <td>True</td>\n",
       "      <td>Sun Jan 29 02:44:34 +0000 2017</td>\n",
       "      <td>56413</td>\n",
       "      <td>19669</td>\n",
       "    </tr>\n",
       "    <tr>\n",
       "      <th>1326</th>\n",
       "      <td>687664829264453632</td>\n",
       "      <td>NaN</td>\n",
       "      <td>NaN</td>\n",
       "      <td>2016-01-14 15:57:26 +0000</td>\n",
       "      <td>&lt;a href=\"http://twitter.com/download/iphone\" rel=\"nofollow\"&gt;Twitter for iPhone&lt;/a&gt;</td>\n",
       "      <td>Meet Opal. He's a Belgian Dijon Poofster. Upset because his hood makes him look like blond Justin Timberlake. 11/10 https://t.co/IAt3jRZ5ez</td>\n",
       "      <td>NaN</td>\n",
       "      <td>NaN</td>\n",
       "      <td>NaN</td>\n",
       "      <td>https://twitter.com/dog_rates/status/687664829264453632/photo/1</td>\n",
       "      <td>11</td>\n",
       "      <td>10</td>\n",
       "      <td>Opal</td>\n",
       "      <td>None</td>\n",
       "      <td>None</td>\n",
       "      <td>None</td>\n",
       "      <td>None</td>\n",
       "      <td>https://pbs.twimg.com/media/CYsTg1XUsAEPjxE.jpg</td>\n",
       "      <td>1</td>\n",
       "      <td>pug</td>\n",
       "      <td>0.957365</td>\n",
       "      <td>True</td>\n",
       "      <td>French_bulldog</td>\n",
       "      <td>0.038559</td>\n",
       "      <td>True</td>\n",
       "      <td>toy_poodle</td>\n",
       "      <td>0.000667</td>\n",
       "      <td>True</td>\n",
       "      <td>Thu Jan 14 15:57:26 +0000 2016</td>\n",
       "      <td>2121</td>\n",
       "      <td>576</td>\n",
       "    </tr>\n",
       "    <tr>\n",
       "      <th>1535</th>\n",
       "      <td>676948236477857792</td>\n",
       "      <td>NaN</td>\n",
       "      <td>NaN</td>\n",
       "      <td>2015-12-16 02:13:31 +0000</td>\n",
       "      <td>&lt;a href=\"http://twitter.com/download/iphone\" rel=\"nofollow\"&gt;Twitter for iPhone&lt;/a&gt;</td>\n",
       "      <td>This is Karl. Karl thinks he's slick. 6/10 sneaky pup https://t.co/Lo4ALwjVh4</td>\n",
       "      <td>NaN</td>\n",
       "      <td>NaN</td>\n",
       "      <td>NaN</td>\n",
       "      <td>https://twitter.com/dog_rates/status/676948236477857792/photo/1</td>\n",
       "      <td>6</td>\n",
       "      <td>10</td>\n",
       "      <td>Karl</td>\n",
       "      <td>None</td>\n",
       "      <td>None</td>\n",
       "      <td>None</td>\n",
       "      <td>None</td>\n",
       "      <td>https://pbs.twimg.com/media/CWUA1GFW4AAowiq.jpg</td>\n",
       "      <td>1</td>\n",
       "      <td>guenon</td>\n",
       "      <td>0.611603</td>\n",
       "      <td>False</td>\n",
       "      <td>macaque</td>\n",
       "      <td>0.135176</td>\n",
       "      <td>False</td>\n",
       "      <td>squirrel_monkey</td>\n",
       "      <td>0.083247</td>\n",
       "      <td>False</td>\n",
       "      <td>Wed Dec 16 02:13:31 +0000 2015</td>\n",
       "      <td>2354</td>\n",
       "      <td>980</td>\n",
       "    </tr>\n",
       "    <tr>\n",
       "      <th>1052</th>\n",
       "      <td>710153181850935296</td>\n",
       "      <td>NaN</td>\n",
       "      <td>NaN</td>\n",
       "      <td>2016-03-16 17:18:07 +0000</td>\n",
       "      <td>&lt;a href=\"http://twitter.com/download/iphone\" rel=\"nofollow\"&gt;Twitter for iPhone&lt;/a&gt;</td>\n",
       "      <td>This is Lacy. She's tipping her hat to you. Daydreams of her life back on the frontier. 11/10 would pet so well https://t.co/fG5Pk3Et1I</td>\n",
       "      <td>NaN</td>\n",
       "      <td>NaN</td>\n",
       "      <td>NaN</td>\n",
       "      <td>https://twitter.com/dog_rates/status/710153181850935296/photo/1,https://twitter.com/dog_rates/status/710153181850935296/photo/1</td>\n",
       "      <td>11</td>\n",
       "      <td>10</td>\n",
       "      <td>Lacy</td>\n",
       "      <td>None</td>\n",
       "      <td>None</td>\n",
       "      <td>None</td>\n",
       "      <td>None</td>\n",
       "      <td>https://pbs.twimg.com/media/Cdr4jO2UAAAIo6W.jpg</td>\n",
       "      <td>2</td>\n",
       "      <td>cowboy_hat</td>\n",
       "      <td>0.979053</td>\n",
       "      <td>False</td>\n",
       "      <td>sombrero</td>\n",
       "      <td>0.010682</td>\n",
       "      <td>False</td>\n",
       "      <td>cocker_spaniel</td>\n",
       "      <td>0.002713</td>\n",
       "      <td>True</td>\n",
       "      <td>Wed Mar 16 17:18:07 +0000 2016</td>\n",
       "      <td>3153</td>\n",
       "      <td>1006</td>\n",
       "    </tr>\n",
       "    <tr>\n",
       "      <th>786</th>\n",
       "      <td>750868782890057730</td>\n",
       "      <td>NaN</td>\n",
       "      <td>NaN</td>\n",
       "      <td>2016-07-07 01:47:22 +0000</td>\n",
       "      <td>&lt;a href=\"http://twitter.com/download/iphone\" rel=\"nofollow\"&gt;Twitter for iPhone&lt;/a&gt;</td>\n",
       "      <td>Meet Milo. He hauled ass until he ran out of treadmill and then passed out from exhaustion. 11/10 sleep tight pupper https://t.co/xe1aGZNkcC</td>\n",
       "      <td>NaN</td>\n",
       "      <td>NaN</td>\n",
       "      <td>NaN</td>\n",
       "      <td>https://twitter.com/dog_rates/status/750868782890057730/photo/1,https://twitter.com/dog_rates/status/750868782890057730/photo/1,https://twitter.com/dog_rates/status/750868782890057730/photo/1,https://twitter.com/dog_rates/status/750868782890057730/photo/1</td>\n",
       "      <td>11</td>\n",
       "      <td>10</td>\n",
       "      <td>Milo</td>\n",
       "      <td>None</td>\n",
       "      <td>None</td>\n",
       "      <td>pupper</td>\n",
       "      <td>None</td>\n",
       "      <td>https://pbs.twimg.com/media/CmufLLsXYAAsU0r.jpg</td>\n",
       "      <td>4</td>\n",
       "      <td>toy_poodle</td>\n",
       "      <td>0.912648</td>\n",
       "      <td>True</td>\n",
       "      <td>miniature_poodle</td>\n",
       "      <td>0.035059</td>\n",
       "      <td>True</td>\n",
       "      <td>seat_belt</td>\n",
       "      <td>0.026376</td>\n",
       "      <td>False</td>\n",
       "      <td>Thu Jul 07 01:47:22 +0000 2016</td>\n",
       "      <td>5306</td>\n",
       "      <td>1595</td>\n",
       "    </tr>\n",
       "    <tr>\n",
       "      <th>1734</th>\n",
       "      <td>672239279297454080</td>\n",
       "      <td>NaN</td>\n",
       "      <td>NaN</td>\n",
       "      <td>2015-12-03 02:21:48 +0000</td>\n",
       "      <td>&lt;a href=\"http://twitter.com/download/iphone\" rel=\"nofollow\"&gt;Twitter for iPhone&lt;/a&gt;</td>\n",
       "      <td>This is Ridley. He doesn't know how to couch. 7/10 https://t.co/UHJE0UgMf7</td>\n",
       "      <td>NaN</td>\n",
       "      <td>NaN</td>\n",
       "      <td>NaN</td>\n",
       "      <td>https://twitter.com/dog_rates/status/672239279297454080/photo/1</td>\n",
       "      <td>7</td>\n",
       "      <td>10</td>\n",
       "      <td>Ridley</td>\n",
       "      <td>None</td>\n",
       "      <td>None</td>\n",
       "      <td>None</td>\n",
       "      <td>None</td>\n",
       "      <td>https://pbs.twimg.com/media/CVRGDrsWsAAUWSF.jpg</td>\n",
       "      <td>1</td>\n",
       "      <td>pug</td>\n",
       "      <td>0.332536</td>\n",
       "      <td>True</td>\n",
       "      <td>French_bulldog</td>\n",
       "      <td>0.258124</td>\n",
       "      <td>True</td>\n",
       "      <td>bull_mastiff</td>\n",
       "      <td>0.120873</td>\n",
       "      <td>True</td>\n",
       "      <td>Thu Dec 03 02:21:48 +0000 2015</td>\n",
       "      <td>953</td>\n",
       "      <td>347</td>\n",
       "    </tr>\n",
       "    <tr>\n",
       "      <th>1579</th>\n",
       "      <td>675707330206547968</td>\n",
       "      <td>6.754971e+17</td>\n",
       "      <td>4.196984e+09</td>\n",
       "      <td>2015-12-12 16:02:36 +0000</td>\n",
       "      <td>&lt;a href=\"http://twitter.com/download/iphone\" rel=\"nofollow\"&gt;Twitter for iPhone&lt;/a&gt;</td>\n",
       "      <td>We've got ourselves a battle here. Watch out Reggie. 11/10 https://t.co/ALJvbtcwf0</td>\n",
       "      <td>NaN</td>\n",
       "      <td>NaN</td>\n",
       "      <td>NaN</td>\n",
       "      <td>https://twitter.com/dog_rates/status/675707330206547968/photo/1</td>\n",
       "      <td>11</td>\n",
       "      <td>10</td>\n",
       "      <td>None</td>\n",
       "      <td>None</td>\n",
       "      <td>None</td>\n",
       "      <td>None</td>\n",
       "      <td>None</td>\n",
       "      <td>https://pbs.twimg.com/media/CWCYOqWUAAARmGr.jpg</td>\n",
       "      <td>1</td>\n",
       "      <td>bath_towel</td>\n",
       "      <td>0.721933</td>\n",
       "      <td>False</td>\n",
       "      <td>Staffordshire_bullterrier</td>\n",
       "      <td>0.059344</td>\n",
       "      <td>True</td>\n",
       "      <td>bagel</td>\n",
       "      <td>0.035702</td>\n",
       "      <td>False</td>\n",
       "      <td>Sat Dec 12 16:02:36 +0000 2015</td>\n",
       "      <td>2154</td>\n",
       "      <td>771</td>\n",
       "    </tr>\n",
       "    <tr>\n",
       "      <th>1782</th>\n",
       "      <td>671166507850801152</td>\n",
       "      <td>NaN</td>\n",
       "      <td>NaN</td>\n",
       "      <td>2015-11-30 03:18:59 +0000</td>\n",
       "      <td>&lt;a href=\"http://twitter.com/download/iphone\" rel=\"nofollow\"&gt;Twitter for iPhone&lt;/a&gt;</td>\n",
       "      <td>This is Herm. It's his first day of potty training. He's doing great. You got this Herm. 10/10 stellar pup https://t.co/gFl60yFJ0w</td>\n",
       "      <td>NaN</td>\n",
       "      <td>NaN</td>\n",
       "      <td>NaN</td>\n",
       "      <td>https://twitter.com/dog_rates/status/671166507850801152/photo/1</td>\n",
       "      <td>10</td>\n",
       "      <td>10</td>\n",
       "      <td>Herm</td>\n",
       "      <td>None</td>\n",
       "      <td>None</td>\n",
       "      <td>None</td>\n",
       "      <td>None</td>\n",
       "      <td>https://pbs.twimg.com/media/CVB2TnWUYAA2pAU.jpg</td>\n",
       "      <td>1</td>\n",
       "      <td>refrigerator</td>\n",
       "      <td>0.829772</td>\n",
       "      <td>False</td>\n",
       "      <td>toilet_seat</td>\n",
       "      <td>0.030083</td>\n",
       "      <td>False</td>\n",
       "      <td>shower_curtain</td>\n",
       "      <td>0.015461</td>\n",
       "      <td>False</td>\n",
       "      <td>Mon Nov 30 03:18:59 +0000 2015</td>\n",
       "      <td>931</td>\n",
       "      <td>390</td>\n",
       "    </tr>\n",
       "  </tbody>\n",
       "</table>\n",
       "</div>"
      ],
      "text/plain": [
       "                tweet_id  in_reply_to_status_id  in_reply_to_user_id  \\\n",
       "1705  672964561327235073                    NaN                  NaN   \n",
       "1238  694001791655137281                    NaN                  NaN   \n",
       "315   825535076884762624                    NaN                  NaN   \n",
       "1326  687664829264453632                    NaN                  NaN   \n",
       "1535  676948236477857792                    NaN                  NaN   \n",
       "1052  710153181850935296                    NaN                  NaN   \n",
       "786   750868782890057730                    NaN                  NaN   \n",
       "1734  672239279297454080                    NaN                  NaN   \n",
       "1579  675707330206547968           6.754971e+17         4.196984e+09   \n",
       "1782  671166507850801152                    NaN                  NaN   \n",
       "\n",
       "                    timestamp_x  \\\n",
       "1705  2015-12-05 02:23:49 +0000   \n",
       "1238  2016-02-01 03:38:15 +0000   \n",
       "315   2017-01-29 02:44:34 +0000   \n",
       "1326  2016-01-14 15:57:26 +0000   \n",
       "1535  2015-12-16 02:13:31 +0000   \n",
       "1052  2016-03-16 17:18:07 +0000   \n",
       "786   2016-07-07 01:47:22 +0000   \n",
       "1734  2015-12-03 02:21:48 +0000   \n",
       "1579  2015-12-12 16:02:36 +0000   \n",
       "1782  2015-11-30 03:18:59 +0000   \n",
       "\n",
       "                                                                                  source  \\\n",
       "1705  <a href=\"http://twitter.com/download/iphone\" rel=\"nofollow\">Twitter for iPhone</a>   \n",
       "1238  <a href=\"http://twitter.com/download/iphone\" rel=\"nofollow\">Twitter for iPhone</a>   \n",
       "315   <a href=\"http://twitter.com/download/iphone\" rel=\"nofollow\">Twitter for iPhone</a>   \n",
       "1326  <a href=\"http://twitter.com/download/iphone\" rel=\"nofollow\">Twitter for iPhone</a>   \n",
       "1535  <a href=\"http://twitter.com/download/iphone\" rel=\"nofollow\">Twitter for iPhone</a>   \n",
       "1052  <a href=\"http://twitter.com/download/iphone\" rel=\"nofollow\">Twitter for iPhone</a>   \n",
       "786   <a href=\"http://twitter.com/download/iphone\" rel=\"nofollow\">Twitter for iPhone</a>   \n",
       "1734  <a href=\"http://twitter.com/download/iphone\" rel=\"nofollow\">Twitter for iPhone</a>   \n",
       "1579  <a href=\"http://twitter.com/download/iphone\" rel=\"nofollow\">Twitter for iPhone</a>   \n",
       "1782  <a href=\"http://twitter.com/download/iphone\" rel=\"nofollow\">Twitter for iPhone</a>   \n",
       "\n",
       "                                                                                                                                                text  \\\n",
       "1705      This is Terry. He's a Toasty Western Sriracha. Doubles as a table. Great for parties. 10/10 would highly recommend https://t.co/1ui7a1ZLTT   \n",
       "1238    This is Chester. He's a Benefloof Cumberbark. Fabulous ears. Nifty shirt. Was probably on sale. Nice hardwood. 11/10 https://t.co/YoII7tWXMT   \n",
       "315   Here's a very loving and accepting puppo. Appears to have read her Constitution well. 14/10 would pat head approvingly https://t.co/6ao80wIpV1   \n",
       "1326     Meet Opal. He's a Belgian Dijon Poofster. Upset because his hood makes him look like blond Justin Timberlake. 11/10 https://t.co/IAt3jRZ5ez   \n",
       "1535                                                                   This is Karl. Karl thinks he's slick. 6/10 sneaky pup https://t.co/Lo4ALwjVh4   \n",
       "1052         This is Lacy. She's tipping her hat to you. Daydreams of her life back on the frontier. 11/10 would pet so well https://t.co/fG5Pk3Et1I   \n",
       "786     Meet Milo. He hauled ass until he ran out of treadmill and then passed out from exhaustion. 11/10 sleep tight pupper https://t.co/xe1aGZNkcC   \n",
       "1734                                                                      This is Ridley. He doesn't know how to couch. 7/10 https://t.co/UHJE0UgMf7   \n",
       "1579                                                              We've got ourselves a battle here. Watch out Reggie. 11/10 https://t.co/ALJvbtcwf0   \n",
       "1782              This is Herm. It's his first day of potty training. He's doing great. You got this Herm. 10/10 stellar pup https://t.co/gFl60yFJ0w   \n",
       "\n",
       "      retweeted_status_id  retweeted_status_user_id  \\\n",
       "1705                  NaN                       NaN   \n",
       "1238                  NaN                       NaN   \n",
       "315                   NaN                       NaN   \n",
       "1326                  NaN                       NaN   \n",
       "1535                  NaN                       NaN   \n",
       "1052                  NaN                       NaN   \n",
       "786                   NaN                       NaN   \n",
       "1734                  NaN                       NaN   \n",
       "1579                  NaN                       NaN   \n",
       "1782                  NaN                       NaN   \n",
       "\n",
       "     retweeted_status_timestamp  \\\n",
       "1705                        NaN   \n",
       "1238                        NaN   \n",
       "315                         NaN   \n",
       "1326                        NaN   \n",
       "1535                        NaN   \n",
       "1052                        NaN   \n",
       "786                         NaN   \n",
       "1734                        NaN   \n",
       "1579                        NaN   \n",
       "1782                        NaN   \n",
       "\n",
       "                                                                                                                                                                                                                                                        expanded_urls  \\\n",
       "1705                                                                                                                                                                                                  https://twitter.com/dog_rates/status/672964561327235073/photo/1   \n",
       "1238                                                                                                                                  https://twitter.com/dog_rates/status/694001791655137281/photo/1,https://twitter.com/dog_rates/status/694001791655137281/photo/1   \n",
       "315                                                                                                                                                                                                   https://twitter.com/dog_rates/status/825535076884762624/photo/1   \n",
       "1326                                                                                                                                                                                                  https://twitter.com/dog_rates/status/687664829264453632/photo/1   \n",
       "1535                                                                                                                                                                                                  https://twitter.com/dog_rates/status/676948236477857792/photo/1   \n",
       "1052                                                                                                                                  https://twitter.com/dog_rates/status/710153181850935296/photo/1,https://twitter.com/dog_rates/status/710153181850935296/photo/1   \n",
       "786   https://twitter.com/dog_rates/status/750868782890057730/photo/1,https://twitter.com/dog_rates/status/750868782890057730/photo/1,https://twitter.com/dog_rates/status/750868782890057730/photo/1,https://twitter.com/dog_rates/status/750868782890057730/photo/1   \n",
       "1734                                                                                                                                                                                                  https://twitter.com/dog_rates/status/672239279297454080/photo/1   \n",
       "1579                                                                                                                                                                                                  https://twitter.com/dog_rates/status/675707330206547968/photo/1   \n",
       "1782                                                                                                                                                                                                  https://twitter.com/dog_rates/status/671166507850801152/photo/1   \n",
       "\n",
       "      rating_numerator  rating_denominator     name doggo floofer  pupper  \\\n",
       "1705                10                  10    Terry  None    None    None   \n",
       "1238                11                  10  Chester  None    None    None   \n",
       "315                 14                  10     None  None    None    None   \n",
       "1326                11                  10     Opal  None    None    None   \n",
       "1535                 6                  10     Karl  None    None    None   \n",
       "1052                11                  10     Lacy  None    None    None   \n",
       "786                 11                  10     Milo  None    None  pupper   \n",
       "1734                 7                  10   Ridley  None    None    None   \n",
       "1579                11                  10     None  None    None    None   \n",
       "1782                10                  10     Herm  None    None    None   \n",
       "\n",
       "      puppo                                          jpg_url  img_num  \\\n",
       "1705   None  https://pbs.twimg.com/media/CVbZsouWUAIsxMc.jpg        1   \n",
       "1238   None  https://pbs.twimg.com/media/CaGW8JQUMAEVtLl.jpg        1   \n",
       "315   puppo  https://pbs.twimg.com/media/C3TjvitXAAAI-QH.jpg        1   \n",
       "1326   None  https://pbs.twimg.com/media/CYsTg1XUsAEPjxE.jpg        1   \n",
       "1535   None  https://pbs.twimg.com/media/CWUA1GFW4AAowiq.jpg        1   \n",
       "1052   None  https://pbs.twimg.com/media/Cdr4jO2UAAAIo6W.jpg        2   \n",
       "786    None  https://pbs.twimg.com/media/CmufLLsXYAAsU0r.jpg        4   \n",
       "1734   None  https://pbs.twimg.com/media/CVRGDrsWsAAUWSF.jpg        1   \n",
       "1579   None  https://pbs.twimg.com/media/CWCYOqWUAAARmGr.jpg        1   \n",
       "1782   None  https://pbs.twimg.com/media/CVB2TnWUYAA2pAU.jpg        1   \n",
       "\n",
       "                p1   p1_conf  p1_dog                         p2   p2_conf  \\\n",
       "1705     Chihuahua  0.292343    True                        pug  0.173364   \n",
       "1238      Pembroke  0.769999    True                   Cardigan  0.229228   \n",
       "315     Rottweiler  0.681495    True            Tibetan_mastiff  0.147940   \n",
       "1326           pug  0.957365    True             French_bulldog  0.038559   \n",
       "1535        guenon  0.611603   False                    macaque  0.135176   \n",
       "1052    cowboy_hat  0.979053   False                   sombrero  0.010682   \n",
       "786     toy_poodle  0.912648    True           miniature_poodle  0.035059   \n",
       "1734           pug  0.332536    True             French_bulldog  0.258124   \n",
       "1579    bath_towel  0.721933   False  Staffordshire_bullterrier  0.059344   \n",
       "1782  refrigerator  0.829772   False                toilet_seat  0.030083   \n",
       "\n",
       "      p2_dog                       p3   p3_conf  p3_dog  \\\n",
       "1705    True           French_bulldog  0.045507    True   \n",
       "1238    True                Chihuahua  0.000247    True   \n",
       "315     True  black-and-tan_coonhound  0.024525    True   \n",
       "1326    True               toy_poodle  0.000667    True   \n",
       "1535   False          squirrel_monkey  0.083247   False   \n",
       "1052   False           cocker_spaniel  0.002713    True   \n",
       "786     True                seat_belt  0.026376   False   \n",
       "1734    True             bull_mastiff  0.120873    True   \n",
       "1579    True                    bagel  0.035702   False   \n",
       "1782   False           shower_curtain  0.015461   False   \n",
       "\n",
       "                         timestamp_y  favorites  retweets  \n",
       "1705  Sat Dec 05 02:23:49 +0000 2015       1530       701  \n",
       "1238  Mon Feb 01 03:38:15 +0000 2016       3705      1176  \n",
       "315   Sun Jan 29 02:44:34 +0000 2017      56413     19669  \n",
       "1326  Thu Jan 14 15:57:26 +0000 2016       2121       576  \n",
       "1535  Wed Dec 16 02:13:31 +0000 2015       2354       980  \n",
       "1052  Wed Mar 16 17:18:07 +0000 2016       3153      1006  \n",
       "786   Thu Jul 07 01:47:22 +0000 2016       5306      1595  \n",
       "1734  Thu Dec 03 02:21:48 +0000 2015        953       347  \n",
       "1579  Sat Dec 12 16:02:36 +0000 2015       2154       771  \n",
       "1782  Mon Nov 30 03:18:59 +0000 2015        931       390  "
      ]
     },
     "execution_count": 15,
     "metadata": {},
     "output_type": "execute_result"
    }
   ],
   "source": [
    "#Random sample of 10 observations to assess visually\n",
    "twitter_data.sample(10)"
   ]
  },
  {
   "cell_type": "markdown",
   "metadata": {},
   "source": [
    "- `doggo`, `floofer`, `pupper`, `puppo` columns have issue with tidiness\n",
    "- In `p1`, `p2`, and `p3` columns dog names are both lowercase and uppercase"
   ]
  },
  {
   "cell_type": "code",
   "execution_count": 16,
   "metadata": {
    "scrolled": true
   },
   "outputs": [
    {
     "name": "stdout",
     "output_type": "stream",
     "text": [
      "<class 'pandas.core.frame.DataFrame'>\n",
      "RangeIndex: 2073 entries, 0 to 2072\n",
      "Data columns (total 31 columns):\n",
      " #   Column                      Non-Null Count  Dtype  \n",
      "---  ------                      --------------  -----  \n",
      " 0   tweet_id                    2073 non-null   int64  \n",
      " 1   in_reply_to_status_id       23 non-null     float64\n",
      " 2   in_reply_to_user_id         23 non-null     float64\n",
      " 3   timestamp_x                 2073 non-null   object \n",
      " 4   source                      2073 non-null   object \n",
      " 5   text                        2073 non-null   object \n",
      " 6   retweeted_status_id         79 non-null     float64\n",
      " 7   retweeted_status_user_id    79 non-null     float64\n",
      " 8   retweeted_status_timestamp  79 non-null     object \n",
      " 9   expanded_urls               2073 non-null   object \n",
      " 10  rating_numerator            2073 non-null   int64  \n",
      " 11  rating_denominator          2073 non-null   int64  \n",
      " 12  name                        2073 non-null   object \n",
      " 13  doggo                       2073 non-null   object \n",
      " 14  floofer                     2073 non-null   object \n",
      " 15  pupper                      2073 non-null   object \n",
      " 16  puppo                       2073 non-null   object \n",
      " 17  jpg_url                     2073 non-null   object \n",
      " 18  img_num                     2073 non-null   int64  \n",
      " 19  p1                          2073 non-null   object \n",
      " 20  p1_conf                     2073 non-null   float64\n",
      " 21  p1_dog                      2073 non-null   bool   \n",
      " 22  p2                          2073 non-null   object \n",
      " 23  p2_conf                     2073 non-null   float64\n",
      " 24  p2_dog                      2073 non-null   bool   \n",
      " 25  p3                          2073 non-null   object \n",
      " 26  p3_conf                     2073 non-null   float64\n",
      " 27  p3_dog                      2073 non-null   bool   \n",
      " 28  timestamp_y                 2073 non-null   object \n",
      " 29  favorites                   2073 non-null   int64  \n",
      " 30  retweets                    2073 non-null   int64  \n",
      "dtypes: bool(3), float64(7), int64(6), object(15)\n",
      "memory usage: 459.7+ KB\n"
     ]
    }
   ],
   "source": [
    "twitter_data.info()"
   ]
  },
  {
   "cell_type": "markdown",
   "metadata": {},
   "source": [
    "- Missing values identified in `in_reply_to_status_id`, `in_reply_to_user_id`, `retweeted_status_id`, `retweeted_status_user_id`, and `retweeted_status_timestamp` columns\n",
    "- `tweet_id`, `in_reply_to_status_id`, `in_reply_to_user_id`, `retweeted_status_id`, `retweeted_status_user_id` columns are not string\n",
    "- `timestamp`, `retweeted_status_timestamp` columns are not date-time format\n",
    "- multiple `timestamp` columns after merging - drop the one and rename the other one"
   ]
  },
  {
   "cell_type": "code",
   "execution_count": 17,
   "metadata": {},
   "outputs": [
    {
     "data": {
      "text/plain": [
       "892420643555336193    1\n",
       "685315239903100929    1\n",
       "683828599284170753    1\n",
       "683834909291606017    1\n",
       "683849932751646720    1\n",
       "                     ..\n",
       "766069199026450432    1\n",
       "766078092750233600    1\n",
       "766313316352462849    1\n",
       "766423258543644672    1\n",
       "666020888022790149    1\n",
       "Name: tweet_id, Length: 2073, dtype: int64"
      ]
     },
     "execution_count": 17,
     "metadata": {},
     "output_type": "execute_result"
    }
   ],
   "source": [
    "twitter_data.tweet_id.value_counts()"
   ]
  },
  {
   "cell_type": "code",
   "execution_count": 18,
   "metadata": {},
   "outputs": [
    {
     "data": {
      "text/plain": [
       "6.671522e+17    2\n",
       "8.558181e+17    1\n",
       "6.715610e+17    1\n",
       "6.747522e+17    1\n",
       "6.717299e+17    1\n",
       "6.747934e+17    1\n",
       "6.749998e+17    1\n",
       "6.754971e+17    1\n",
       "6.757073e+17    1\n",
       "6.842229e+17    1\n",
       "6.844811e+17    1\n",
       "6.920419e+17    1\n",
       "6.706684e+17    1\n",
       "6.753494e+17    1\n",
       "7.030419e+17    1\n",
       "7.032559e+17    1\n",
       "7.291135e+17    1\n",
       "6.914169e+17    1\n",
       "7.468859e+17    1\n",
       "7.331095e+17    1\n",
       "7.590995e+17    1\n",
       "6.678065e+17    1\n",
       "Name: in_reply_to_status_id, dtype: int64"
      ]
     },
     "execution_count": 18,
     "metadata": {},
     "output_type": "execute_result"
    }
   ],
   "source": [
    "twitter_data.in_reply_to_status_id.value_counts()"
   ]
  },
  {
   "cell_type": "code",
   "execution_count": 19,
   "metadata": {},
   "outputs": [
    {
     "data": {
      "text/html": [
       "<div>\n",
       "<style scoped>\n",
       "    .dataframe tbody tr th:only-of-type {\n",
       "        vertical-align: middle;\n",
       "    }\n",
       "\n",
       "    .dataframe tbody tr th {\n",
       "        vertical-align: top;\n",
       "    }\n",
       "\n",
       "    .dataframe thead th {\n",
       "        text-align: right;\n",
       "    }\n",
       "</style>\n",
       "<table border=\"1\" class=\"dataframe\">\n",
       "  <thead>\n",
       "    <tr style=\"text-align: right;\">\n",
       "      <th></th>\n",
       "      <th>tweet_id</th>\n",
       "      <th>in_reply_to_status_id</th>\n",
       "      <th>in_reply_to_user_id</th>\n",
       "      <th>timestamp_x</th>\n",
       "      <th>source</th>\n",
       "      <th>text</th>\n",
       "      <th>retweeted_status_id</th>\n",
       "      <th>retweeted_status_user_id</th>\n",
       "      <th>retweeted_status_timestamp</th>\n",
       "      <th>expanded_urls</th>\n",
       "      <th>rating_numerator</th>\n",
       "      <th>rating_denominator</th>\n",
       "      <th>name</th>\n",
       "      <th>doggo</th>\n",
       "      <th>floofer</th>\n",
       "      <th>pupper</th>\n",
       "      <th>puppo</th>\n",
       "      <th>jpg_url</th>\n",
       "      <th>img_num</th>\n",
       "      <th>p1</th>\n",
       "      <th>p1_conf</th>\n",
       "      <th>p1_dog</th>\n",
       "      <th>p2</th>\n",
       "      <th>p2_conf</th>\n",
       "      <th>p2_dog</th>\n",
       "      <th>p3</th>\n",
       "      <th>p3_conf</th>\n",
       "      <th>p3_dog</th>\n",
       "      <th>timestamp_y</th>\n",
       "      <th>favorites</th>\n",
       "      <th>retweets</th>\n",
       "    </tr>\n",
       "  </thead>\n",
       "  <tbody>\n",
       "    <tr>\n",
       "      <th>123</th>\n",
       "      <td>863079547188785154</td>\n",
       "      <td>6.671522e+17</td>\n",
       "      <td>4.196984e+09</td>\n",
       "      <td>2017-05-12 17:12:53 +0000</td>\n",
       "      <td>&lt;a href=\"http://twitter.com/download/iphone\" rel=\"nofollow\"&gt;Twitter for iPhone&lt;/a&gt;</td>\n",
       "      <td>Ladies and gentlemen... I found Pipsy. He may have changed his name to Pablo, but he never changed his love for the sea. Pupgraded to 14/10 https://t.co/lVU5GyNFen</td>\n",
       "      <td>NaN</td>\n",
       "      <td>NaN</td>\n",
       "      <td>NaN</td>\n",
       "      <td>https://twitter.com/dog_rates/status/863079547188785154/photo/1</td>\n",
       "      <td>14</td>\n",
       "      <td>10</td>\n",
       "      <td>None</td>\n",
       "      <td>None</td>\n",
       "      <td>None</td>\n",
       "      <td>None</td>\n",
       "      <td>None</td>\n",
       "      <td>https://pbs.twimg.com/media/C_pGRInUwAAmTY_.jpg</td>\n",
       "      <td>1</td>\n",
       "      <td>Lakeland_terrier</td>\n",
       "      <td>0.275242</td>\n",
       "      <td>True</td>\n",
       "      <td>Airedale</td>\n",
       "      <td>0.190569</td>\n",
       "      <td>True</td>\n",
       "      <td>teddy</td>\n",
       "      <td>0.102595</td>\n",
       "      <td>False</td>\n",
       "      <td>Fri May 12 17:12:53 +0000 2017</td>\n",
       "      <td>9094</td>\n",
       "      <td>1195</td>\n",
       "    </tr>\n",
       "    <tr>\n",
       "      <th>1121</th>\n",
       "      <td>704871453724954624</td>\n",
       "      <td>6.671522e+17</td>\n",
       "      <td>4.196984e+09</td>\n",
       "      <td>2016-03-02 03:30:25 +0000</td>\n",
       "      <td>&lt;a href=\"http://twitter.com/download/iphone\" rel=\"nofollow\"&gt;Twitter for iPhone&lt;/a&gt;</td>\n",
       "      <td>I found a forest Pipsy. 12/10 https://t.co/mIQ1KoVsmU</td>\n",
       "      <td>NaN</td>\n",
       "      <td>NaN</td>\n",
       "      <td>NaN</td>\n",
       "      <td>https://twitter.com/dog_rates/status/704871453724954624/photo/1</td>\n",
       "      <td>12</td>\n",
       "      <td>10</td>\n",
       "      <td>None</td>\n",
       "      <td>None</td>\n",
       "      <td>None</td>\n",
       "      <td>None</td>\n",
       "      <td>None</td>\n",
       "      <td>https://pbs.twimg.com/media/Ccg02LiWEAAJHw1.jpg</td>\n",
       "      <td>1</td>\n",
       "      <td>Norfolk_terrier</td>\n",
       "      <td>0.689504</td>\n",
       "      <td>True</td>\n",
       "      <td>soft-coated_wheaten_terrier</td>\n",
       "      <td>0.101480</td>\n",
       "      <td>True</td>\n",
       "      <td>Norwich_terrier</td>\n",
       "      <td>0.055778</td>\n",
       "      <td>True</td>\n",
       "      <td>Wed Mar 02 03:30:25 +0000 2016</td>\n",
       "      <td>4585</td>\n",
       "      <td>1245</td>\n",
       "    </tr>\n",
       "  </tbody>\n",
       "</table>\n",
       "</div>"
      ],
      "text/plain": [
       "                tweet_id  in_reply_to_status_id  in_reply_to_user_id  \\\n",
       "123   863079547188785154           6.671522e+17         4.196984e+09   \n",
       "1121  704871453724954624           6.671522e+17         4.196984e+09   \n",
       "\n",
       "                    timestamp_x  \\\n",
       "123   2017-05-12 17:12:53 +0000   \n",
       "1121  2016-03-02 03:30:25 +0000   \n",
       "\n",
       "                                                                                  source  \\\n",
       "123   <a href=\"http://twitter.com/download/iphone\" rel=\"nofollow\">Twitter for iPhone</a>   \n",
       "1121  <a href=\"http://twitter.com/download/iphone\" rel=\"nofollow\">Twitter for iPhone</a>   \n",
       "\n",
       "                                                                                                                                                                     text  \\\n",
       "123   Ladies and gentlemen... I found Pipsy. He may have changed his name to Pablo, but he never changed his love for the sea. Pupgraded to 14/10 https://t.co/lVU5GyNFen   \n",
       "1121                                                                                                                I found a forest Pipsy. 12/10 https://t.co/mIQ1KoVsmU   \n",
       "\n",
       "      retweeted_status_id  retweeted_status_user_id  \\\n",
       "123                   NaN                       NaN   \n",
       "1121                  NaN                       NaN   \n",
       "\n",
       "     retweeted_status_timestamp  \\\n",
       "123                         NaN   \n",
       "1121                        NaN   \n",
       "\n",
       "                                                        expanded_urls  \\\n",
       "123   https://twitter.com/dog_rates/status/863079547188785154/photo/1   \n",
       "1121  https://twitter.com/dog_rates/status/704871453724954624/photo/1   \n",
       "\n",
       "      rating_numerator  rating_denominator  name doggo floofer pupper puppo  \\\n",
       "123                 14                  10  None  None    None   None  None   \n",
       "1121                12                  10  None  None    None   None  None   \n",
       "\n",
       "                                              jpg_url  img_num  \\\n",
       "123   https://pbs.twimg.com/media/C_pGRInUwAAmTY_.jpg        1   \n",
       "1121  https://pbs.twimg.com/media/Ccg02LiWEAAJHw1.jpg        1   \n",
       "\n",
       "                    p1   p1_conf  p1_dog                           p2  \\\n",
       "123   Lakeland_terrier  0.275242    True                     Airedale   \n",
       "1121   Norfolk_terrier  0.689504    True  soft-coated_wheaten_terrier   \n",
       "\n",
       "       p2_conf  p2_dog               p3   p3_conf  p3_dog  \\\n",
       "123   0.190569    True            teddy  0.102595   False   \n",
       "1121  0.101480    True  Norwich_terrier  0.055778    True   \n",
       "\n",
       "                         timestamp_y  favorites  retweets  \n",
       "123   Fri May 12 17:12:53 +0000 2017       9094      1195  \n",
       "1121  Wed Mar 02 03:30:25 +0000 2016       4585      1245  "
      ]
     },
     "execution_count": 19,
     "metadata": {},
     "output_type": "execute_result"
    }
   ],
   "source": [
    "# Check the in_reply_to_status_id with frequency 2\n",
    "twitter_data[(twitter_data.in_reply_to_status_id.duplicated(keep=False)==True)&(~twitter_data.in_reply_to_status_id.isnull())]"
   ]
  },
  {
   "cell_type": "code",
   "execution_count": 20,
   "metadata": {},
   "outputs": [
    {
     "data": {
      "text/plain": [
       "4.196984e+09    23\n",
       "Name: in_reply_to_user_id, dtype: int64"
      ]
     },
     "execution_count": 20,
     "metadata": {},
     "output_type": "execute_result"
    }
   ],
   "source": [
    "twitter_data.in_reply_to_user_id.value_counts()"
   ]
  },
  {
   "cell_type": "code",
   "execution_count": 21,
   "metadata": {},
   "outputs": [
    {
     "data": {
      "text/plain": [
       "2017-08-01 16:23:56 +0000    1\n",
       "2016-01-08 04:21:00 +0000    1\n",
       "2016-01-04 01:53:37 +0000    1\n",
       "2016-01-04 02:18:42 +0000    1\n",
       "2016-01-04 03:18:23 +0000    1\n",
       "                            ..\n",
       "2016-08-18 00:28:24 +0000    1\n",
       "2016-08-18 01:03:45 +0000    1\n",
       "2016-08-18 16:38:26 +0000    1\n",
       "2016-08-18 23:55:18 +0000    1\n",
       "2015-11-15 22:32:08 +0000    1\n",
       "Name: timestamp_x, Length: 2073, dtype: int64"
      ]
     },
     "execution_count": 21,
     "metadata": {},
     "output_type": "execute_result"
    }
   ],
   "source": [
    "twitter_data.timestamp_x.value_counts()"
   ]
  },
  {
   "cell_type": "code",
   "execution_count": 22,
   "metadata": {
    "scrolled": false
   },
   "outputs": [
    {
     "data": {
      "text/plain": [
       "<a href=\"http://twitter.com/download/iphone\" rel=\"nofollow\">Twitter for iPhone</a>     2032\n",
       "<a href=\"http://twitter.com\" rel=\"nofollow\">Twitter Web Client</a>                       30\n",
       "<a href=\"https://about.twitter.com/products/tweetdeck\" rel=\"nofollow\">TweetDeck</a>      11\n",
       "Name: source, dtype: int64"
      ]
     },
     "execution_count": 22,
     "metadata": {},
     "output_type": "execute_result"
    }
   ],
   "source": [
    "twitter_data.source.value_counts()"
   ]
  },
  {
   "cell_type": "markdown",
   "metadata": {},
   "source": [
    "- `source` column can be cleaned so that we might have four categoris"
   ]
  },
  {
   "cell_type": "code",
   "execution_count": 23,
   "metadata": {
    "scrolled": true
   },
   "outputs": [
    {
     "data": {
      "text/plain": [
       "This is Phineas. He's a mystical boy. Only ever appears in the hole of a donut. 13/10 https://t.co/MgUWQ76dJU                                      1\n",
       "I would like everyone to appreciate this pup's face as much as I do. 11/10 https://t.co/QIe7oxkSNo                                                 1\n",
       "Breathtaking pupper here. Should be on the cover of Dogue. Top-notch tongue. Appears considerably fluffy. 12/10 https://t.co/Eeh3yfdglS            1\n",
       "Here we see a faulty pupper. Might need to replace batteries. Try turning off &amp; back on again. 9/10 would still pet https://t.co/O1E4AtHVxO    1\n",
       "This is Jiminy. He's not the brightest dog. Needs to lay off the kibble. 5/10 still petable https://t.co/omln4LOy1x                                1\n",
       "                                                                                                                                                  ..\n",
       "This is Juno. She can see your future. 12/10 h*ckin mesmerizing af https://t.co/Z69mShifuk                                                         1\n",
       "RT @dog_rates: This is Colby. He's currently regretting all those times he shook your hand for an extra treat. 12/10 https://t.co/vtVHtKFtBH       1\n",
       "This is Oscar. He has legendary eyebrows and he h*ckin knows it. Curly af too. 12/10 would hug passionately https://t.co/xuxZoObmF0                1\n",
       "This is Shadoe. Her tongue flies out of her mouth at random. Can't have a serious conversation with her. 9/10 https://t.co/Tytt15VquG              1\n",
       "Here we have a Japanese Irish Setter. Lost eye in Vietnam (?). Big fan of relaxing on stair. 8/10 would pet https://t.co/BLDqew2Ijj                1\n",
       "Name: text, Length: 2073, dtype: int64"
      ]
     },
     "execution_count": 23,
     "metadata": {},
     "output_type": "execute_result"
    }
   ],
   "source": [
    "twitter_data.text.value_counts()"
   ]
  },
  {
   "cell_type": "code",
   "execution_count": 24,
   "metadata": {},
   "outputs": [
    {
     "data": {
      "text/plain": [
       "8.305833e+17    1\n",
       "7.887659e+17    1\n",
       "7.076109e+17    1\n",
       "6.742918e+17    1\n",
       "7.798343e+17    1\n",
       "               ..\n",
       "7.735476e+17    1\n",
       "8.190064e+17    1\n",
       "8.190048e+17    1\n",
       "8.001414e+17    1\n",
       "6.675484e+17    1\n",
       "Name: retweeted_status_id, Length: 79, dtype: int64"
      ]
     },
     "execution_count": 24,
     "metadata": {},
     "output_type": "execute_result"
    }
   ],
   "source": [
    "twitter_data.retweeted_status_id.value_counts()"
   ]
  },
  {
   "cell_type": "code",
   "execution_count": 25,
   "metadata": {},
   "outputs": [
    {
     "data": {
      "text/plain": [
       "4.196984e+09    65\n",
       "4.296832e+09     2\n",
       "5.128045e+08     1\n",
       "7.874618e+17     1\n",
       "3.638908e+08     1\n",
       "3.410211e+08     1\n",
       "5.970642e+08     1\n",
       "4.119842e+07     1\n",
       "8.117408e+08     1\n",
       "7.266347e+08     1\n",
       "4.871977e+08     1\n",
       "1.228326e+09     1\n",
       "2.804798e+08     1\n",
       "7.832140e+05     1\n",
       "Name: retweeted_status_user_id, dtype: int64"
      ]
     },
     "execution_count": 25,
     "metadata": {},
     "output_type": "execute_result"
    }
   ],
   "source": [
    "twitter_data.retweeted_status_user_id.value_counts()"
   ]
  },
  {
   "cell_type": "code",
   "execution_count": 26,
   "metadata": {},
   "outputs": [
    {
     "data": {
      "text/plain": [
       "2017-02-12 01:04:29 +0000    1\n",
       "2016-10-19 15:37:03 +0000    1\n",
       "2016-03-09 16:56:11 +0000    1\n",
       "2015-12-08 18:17:56 +0000    1\n",
       "2016-09-25 00:06:08 +0000    1\n",
       "                            ..\n",
       "2016-09-07 15:44:53 +0000    1\n",
       "2017-01-11 02:21:57 +0000    1\n",
       "2017-01-11 02:15:36 +0000    1\n",
       "2016-11-20 00:59:15 +0000    1\n",
       "2015-11-20 03:41:59 +0000    1\n",
       "Name: retweeted_status_timestamp, Length: 79, dtype: int64"
      ]
     },
     "execution_count": 26,
     "metadata": {},
     "output_type": "execute_result"
    }
   ],
   "source": [
    "twitter_data.retweeted_status_timestamp.value_counts()"
   ]
  },
  {
   "cell_type": "code",
   "execution_count": 27,
   "metadata": {},
   "outputs": [
    {
     "data": {
      "text/plain": [
       "https://twitter.com/dog_rates/status/892420643555336193/photo/1                                                                    1\n",
       "https://twitter.com/dog_rates/status/685315239903100929/photo/1,https://twitter.com/dog_rates/status/685315239903100929/photo/1    1\n",
       "https://twitter.com/dog_rates/status/683828599284170753/photo/1                                                                    1\n",
       "https://twitter.com/dog_rates/status/683834909291606017/video/1                                                                    1\n",
       "https://twitter.com/dog_rates/status/683849932751646720/photo/1                                                                    1\n",
       "                                                                                                                                  ..\n",
       "https://twitter.com/dog_rates/status/766069199026450432/photo/1                                                                    1\n",
       "https://twitter.com/dog_rates/status/725842289046749185/photo/1,https://twitter.com/dog_rates/status/725842289046749185/photo/1    1\n",
       "https://twitter.com/dog_rates/status/766313316352462849/photo/1                                                                    1\n",
       "https://twitter.com/dog_rates/status/766423258543644672/photo/1,https://twitter.com/dog_rates/status/766423258543644672/photo/1    1\n",
       "https://twitter.com/dog_rates/status/666020888022790149/photo/1                                                                    1\n",
       "Name: expanded_urls, Length: 2073, dtype: int64"
      ]
     },
     "execution_count": 27,
     "metadata": {},
     "output_type": "execute_result"
    }
   ],
   "source": [
    "twitter_data.expanded_urls.value_counts()"
   ]
  },
  {
   "cell_type": "code",
   "execution_count": 28,
   "metadata": {
    "scrolled": true
   },
   "outputs": [
    {
     "data": {
      "text/plain": [
       "12      473\n",
       "10      429\n",
       "11      413\n",
       "13      283\n",
       "9       151\n",
       "8        95\n",
       "7        52\n",
       "14       40\n",
       "5        34\n",
       "6        32\n",
       "3        19\n",
       "4        16\n",
       "2         9\n",
       "1         5\n",
       "0         2\n",
       "27        1\n",
       "45        1\n",
       "88        1\n",
       "144       1\n",
       "26        1\n",
       "121       1\n",
       "143       1\n",
       "44        1\n",
       "60        1\n",
       "80        1\n",
       "75        1\n",
       "99        1\n",
       "50        1\n",
       "204       1\n",
       "1776      1\n",
       "165       1\n",
       "15        1\n",
       "84        1\n",
       "24        1\n",
       "420       1\n",
       "Name: rating_numerator, dtype: int64"
      ]
     },
     "execution_count": 28,
     "metadata": {},
     "output_type": "execute_result"
    }
   ],
   "source": [
    "twitter_data.rating_numerator.value_counts()"
   ]
  },
  {
   "cell_type": "code",
   "execution_count": 29,
   "metadata": {},
   "outputs": [
    {
     "data": {
      "text/plain": [
       "10     2055\n",
       "50        3\n",
       "11        2\n",
       "80        2\n",
       "70        1\n",
       "7         1\n",
       "150       1\n",
       "170       1\n",
       "20        1\n",
       "90        1\n",
       "40        1\n",
       "130       1\n",
       "110       1\n",
       "120       1\n",
       "2         1\n",
       "Name: rating_denominator, dtype: int64"
      ]
     },
     "execution_count": 29,
     "metadata": {},
     "output_type": "execute_result"
    }
   ],
   "source": [
    "twitter_data.rating_denominator.value_counts()"
   ]
  },
  {
   "cell_type": "markdown",
   "metadata": {},
   "source": [
    "Observations with enormous large numerators and denominators were identified. Let's check further displaying coresponding `text` column "
   ]
  },
  {
   "cell_type": "code",
   "execution_count": 30,
   "metadata": {},
   "outputs": [
    {
     "name": "stderr",
     "output_type": "stream",
     "text": [
      "C:\\Users\\manuk\\AppData\\Local\\Temp\\ipykernel_14332\\216667187.py:1: FutureWarning: Passing a negative integer is deprecated in version 1.0 and will not be supported in future version. Instead, use None to not limit the column width.\n",
      "  pd.set_option('display.max_colwidth', -1)\n"
     ]
    }
   ],
   "source": [
    " pd.set_option('display.max_colwidth', -1)"
   ]
  },
  {
   "cell_type": "code",
   "execution_count": 31,
   "metadata": {
    "scrolled": true
   },
   "outputs": [
    {
     "data": {
      "text/html": [
       "<div>\n",
       "<style scoped>\n",
       "    .dataframe tbody tr th:only-of-type {\n",
       "        vertical-align: middle;\n",
       "    }\n",
       "\n",
       "    .dataframe tbody tr th {\n",
       "        vertical-align: top;\n",
       "    }\n",
       "\n",
       "    .dataframe thead th {\n",
       "        text-align: right;\n",
       "    }\n",
       "</style>\n",
       "<table border=\"1\" class=\"dataframe\">\n",
       "  <thead>\n",
       "    <tr style=\"text-align: right;\">\n",
       "      <th></th>\n",
       "      <th>text</th>\n",
       "      <th>rating_numerator</th>\n",
       "      <th>rating_denominator</th>\n",
       "    </tr>\n",
       "  </thead>\n",
       "  <tbody>\n",
       "    <tr>\n",
       "      <th>734</th>\n",
       "      <td>Why does this never happen at my front door... 165/150 https://t.co/HmwrdfEfUE</td>\n",
       "      <td>165</td>\n",
       "      <td>150</td>\n",
       "    </tr>\n",
       "    <tr>\n",
       "      <th>802</th>\n",
       "      <td>This is Atticus. He's quite simply America af. 1776/10 https://t.co/GRXwMxLBkh</td>\n",
       "      <td>1776</td>\n",
       "      <td>10</td>\n",
       "    </tr>\n",
       "    <tr>\n",
       "      <th>924</th>\n",
       "      <td>Say hello to this unbelievably well behaved squad of doggos. 204/170 would try to pet all at once https://t.co/yGQI3He3xv</td>\n",
       "      <td>204</td>\n",
       "      <td>170</td>\n",
       "    </tr>\n",
       "    <tr>\n",
       "      <th>1379</th>\n",
       "      <td>Two sneaky puppers were not initially seen, moving the rating to 143/130. Please forgive us. Thank you https://t.co/kRK51Y5ac3</td>\n",
       "      <td>143</td>\n",
       "      <td>130</td>\n",
       "    </tr>\n",
       "    <tr>\n",
       "      <th>1380</th>\n",
       "      <td>Someone help the girl is being mugged. Several are distracting her while two steal her shoes. Clever puppers 121/110 https://t.co/1zfnTJLt55</td>\n",
       "      <td>121</td>\n",
       "      <td>110</td>\n",
       "    </tr>\n",
       "    <tr>\n",
       "      <th>1512</th>\n",
       "      <td>IT'S PUPPERGEDDON. Total of 144/120 ...I think https://t.co/ZanVtAtvIq</td>\n",
       "      <td>144</td>\n",
       "      <td>120</td>\n",
       "    </tr>\n",
       "    <tr>\n",
       "      <th>1795</th>\n",
       "      <td>After so many requests... here you go.\\n\\nGood dogg. 420/10 https://t.co/yfAAo1gdeY</td>\n",
       "      <td>420</td>\n",
       "      <td>10</td>\n",
       "    </tr>\n",
       "  </tbody>\n",
       "</table>\n",
       "</div>"
      ],
      "text/plain": [
       "                                                                                                                                              text  \\\n",
       "734   Why does this never happen at my front door... 165/150 https://t.co/HmwrdfEfUE                                                                 \n",
       "802   This is Atticus. He's quite simply America af. 1776/10 https://t.co/GRXwMxLBkh                                                                 \n",
       "924   Say hello to this unbelievably well behaved squad of doggos. 204/170 would try to pet all at once https://t.co/yGQI3He3xv                      \n",
       "1379  Two sneaky puppers were not initially seen, moving the rating to 143/130. Please forgive us. Thank you https://t.co/kRK51Y5ac3                 \n",
       "1380  Someone help the girl is being mugged. Several are distracting her while two steal her shoes. Clever puppers 121/110 https://t.co/1zfnTJLt55   \n",
       "1512  IT'S PUPPERGEDDON. Total of 144/120 ...I think https://t.co/ZanVtAtvIq                                                                         \n",
       "1795  After so many requests... here you go.\\n\\nGood dogg. 420/10 https://t.co/yfAAo1gdeY                                                            \n",
       "\n",
       "      rating_numerator  rating_denominator  \n",
       "734   165               150                 \n",
       "802   1776              10                  \n",
       "924   204               170                 \n",
       "1379  143               130                 \n",
       "1380  121               110                 \n",
       "1512  144               120                 \n",
       "1795  420               10                  "
      ]
     },
     "execution_count": 31,
     "metadata": {},
     "output_type": "execute_result"
    }
   ],
   "source": [
    "check_num = twitter_data.query('rating_numerator > = 100')[['text','rating_numerator','rating_denominator']]\n",
    "check_num"
   ]
  },
  {
   "cell_type": "code",
   "execution_count": 32,
   "metadata": {
    "scrolled": true
   },
   "outputs": [
    {
     "name": "stdout",
     "output_type": "stream",
     "text": [
      "                                                                                                                                              text  \\\n",
      "734   Why does this never happen at my front door... 165/150 https://t.co/HmwrdfEfUE                                                                 \n",
      "802   This is Atticus. He's quite simply America af. 1776/10 https://t.co/GRXwMxLBkh                                                                 \n",
      "924   Say hello to this unbelievably well behaved squad of doggos. 204/170 would try to pet all at once https://t.co/yGQI3He3xv                      \n",
      "1379  Two sneaky puppers were not initially seen, moving the rating to 143/130. Please forgive us. Thank you https://t.co/kRK51Y5ac3                 \n",
      "1380  Someone help the girl is being mugged. Several are distracting her while two steal her shoes. Clever puppers 121/110 https://t.co/1zfnTJLt55   \n",
      "1512  IT'S PUPPERGEDDON. Total of 144/120 ...I think https://t.co/ZanVtAtvIq                                                                         \n",
      "1795  After so many requests... here you go.\\n\\nGood dogg. 420/10 https://t.co/yfAAo1gdeY                                                            \n",
      "\n",
      "      rating_numerator  rating_denominator  \n",
      "734   165               150                 \n",
      "802   1776              10                  \n",
      "924   204               170                 \n",
      "1379  143               130                 \n",
      "1380  121               110                 \n",
      "1512  144               120                 \n",
      "1795  420               10                  \n"
     ]
    }
   ],
   "source": [
    "print(check_num)"
   ]
  },
  {
   "cell_type": "code",
   "execution_count": 33,
   "metadata": {},
   "outputs": [
    {
     "data": {
      "text/html": [
       "<div>\n",
       "<style scoped>\n",
       "    .dataframe tbody tr th:only-of-type {\n",
       "        vertical-align: middle;\n",
       "    }\n",
       "\n",
       "    .dataframe tbody tr th {\n",
       "        vertical-align: top;\n",
       "    }\n",
       "\n",
       "    .dataframe thead th {\n",
       "        text-align: right;\n",
       "    }\n",
       "</style>\n",
       "<table border=\"1\" class=\"dataframe\">\n",
       "  <thead>\n",
       "    <tr style=\"text-align: right;\">\n",
       "      <th></th>\n",
       "      <th>text</th>\n",
       "      <th>rating_numerator</th>\n",
       "      <th>rating_denominator</th>\n",
       "    </tr>\n",
       "  </thead>\n",
       "  <tbody>\n",
       "    <tr>\n",
       "      <th>734</th>\n",
       "      <td>Why does this never happen at my front door... 165/150 https://t.co/HmwrdfEfUE</td>\n",
       "      <td>165</td>\n",
       "      <td>150</td>\n",
       "    </tr>\n",
       "    <tr>\n",
       "      <th>924</th>\n",
       "      <td>Say hello to this unbelievably well behaved squad of doggos. 204/170 would try to pet all at once https://t.co/yGQI3He3xv</td>\n",
       "      <td>204</td>\n",
       "      <td>170</td>\n",
       "    </tr>\n",
       "    <tr>\n",
       "      <th>1379</th>\n",
       "      <td>Two sneaky puppers were not initially seen, moving the rating to 143/130. Please forgive us. Thank you https://t.co/kRK51Y5ac3</td>\n",
       "      <td>143</td>\n",
       "      <td>130</td>\n",
       "    </tr>\n",
       "    <tr>\n",
       "      <th>1380</th>\n",
       "      <td>Someone help the girl is being mugged. Several are distracting her while two steal her shoes. Clever puppers 121/110 https://t.co/1zfnTJLt55</td>\n",
       "      <td>121</td>\n",
       "      <td>110</td>\n",
       "    </tr>\n",
       "    <tr>\n",
       "      <th>1512</th>\n",
       "      <td>IT'S PUPPERGEDDON. Total of 144/120 ...I think https://t.co/ZanVtAtvIq</td>\n",
       "      <td>144</td>\n",
       "      <td>120</td>\n",
       "    </tr>\n",
       "  </tbody>\n",
       "</table>\n",
       "</div>"
      ],
      "text/plain": [
       "                                                                                                                                              text  \\\n",
       "734   Why does this never happen at my front door... 165/150 https://t.co/HmwrdfEfUE                                                                 \n",
       "924   Say hello to this unbelievably well behaved squad of doggos. 204/170 would try to pet all at once https://t.co/yGQI3He3xv                      \n",
       "1379  Two sneaky puppers were not initially seen, moving the rating to 143/130. Please forgive us. Thank you https://t.co/kRK51Y5ac3                 \n",
       "1380  Someone help the girl is being mugged. Several are distracting her while two steal her shoes. Clever puppers 121/110 https://t.co/1zfnTJLt55   \n",
       "1512  IT'S PUPPERGEDDON. Total of 144/120 ...I think https://t.co/ZanVtAtvIq                                                                         \n",
       "\n",
       "      rating_numerator  rating_denominator  \n",
       "734   165               150                 \n",
       "924   204               170                 \n",
       "1379  143               130                 \n",
       "1380  121               110                 \n",
       "1512  144               120                 "
      ]
     },
     "execution_count": 33,
     "metadata": {},
     "output_type": "execute_result"
    }
   ],
   "source": [
    "check_den = twitter_data.query('rating_denominator > = 100')[['text','rating_numerator','rating_denominator']]\n",
    "check_den"
   ]
  },
  {
   "cell_type": "code",
   "execution_count": 34,
   "metadata": {},
   "outputs": [
    {
     "name": "stdout",
     "output_type": "stream",
     "text": [
      "                                                                                                                                              text  \\\n",
      "734   Why does this never happen at my front door... 165/150 https://t.co/HmwrdfEfUE                                                                 \n",
      "924   Say hello to this unbelievably well behaved squad of doggos. 204/170 would try to pet all at once https://t.co/yGQI3He3xv                      \n",
      "1379  Two sneaky puppers were not initially seen, moving the rating to 143/130. Please forgive us. Thank you https://t.co/kRK51Y5ac3                 \n",
      "1380  Someone help the girl is being mugged. Several are distracting her while two steal her shoes. Clever puppers 121/110 https://t.co/1zfnTJLt55   \n",
      "1512  IT'S PUPPERGEDDON. Total of 144/120 ...I think https://t.co/ZanVtAtvIq                                                                         \n",
      "\n",
      "      rating_numerator  rating_denominator  \n",
      "734   165               150                 \n",
      "924   204               170                 \n",
      "1379  143               130                 \n",
      "1380  121               110                 \n",
      "1512  144               120                 \n"
     ]
    }
   ],
   "source": [
    "print(check_den)"
   ]
  },
  {
   "cell_type": "code",
   "execution_count": 35,
   "metadata": {},
   "outputs": [],
   "source": [
    "pd.set_option('max_colwidth', 800)"
   ]
  },
  {
   "cell_type": "code",
   "execution_count": 36,
   "metadata": {},
   "outputs": [
    {
     "data": {
      "text/plain": [
       "None          577\n",
       "a              55\n",
       "Charlie        11\n",
       "Penny          10\n",
       "Oliver         10\n",
       "             ... \n",
       "Lenox           1\n",
       "Tilly           1\n",
       "Harvey          1\n",
       "Blanket         1\n",
       "Christoper      1\n",
       "Name: name, Length: 936, dtype: int64"
      ]
     },
     "execution_count": 36,
     "metadata": {},
     "output_type": "execute_result"
    }
   ],
   "source": [
    "twitter_data.name.value_counts()"
   ]
  },
  {
   "cell_type": "markdown",
   "metadata": {},
   "source": [
    "- Suspicious character identified like `a` \n",
    "- `None` should be converted. [Let's explore further](https://stackoverflow.com/questions/63358767/how-to-filter-rows-and-words-in-lower-case-in-pandas-dataframe) "
   ]
  },
  {
   "cell_type": "code",
   "execution_count": 37,
   "metadata": {},
   "outputs": [
    {
     "name": "stdout",
     "output_type": "stream",
     "text": [
      "['a' 'actually' 'all' 'an' 'by' 'getting' 'his' 'incredibly' 'infuriating'\n",
      " 'just' 'light' 'my' 'not' 'officially' 'one' 'quite' 'space' 'such' 'the'\n",
      " 'this' 'unacceptable' 'very']\n"
     ]
    }
   ],
   "source": [
    "my_list = twitter_data['name'].str.extractall(r'(\\b[a-z]+\\b)')[0].tolist()\n",
    "print (np.unique(my_list))"
   ]
  },
  {
   "cell_type": "markdown",
   "metadata": {},
   "source": [
    "Use the list to [filter](https://stackoverflow.com/questions/12096252/use-a-list-of-values-to-select-rows-from-a-pandas-dataframe) the dataframe"
   ]
  },
  {
   "cell_type": "code",
   "execution_count": 38,
   "metadata": {},
   "outputs": [
    {
     "data": {
      "text/plain": [
       "a               55\n",
       "actually         1\n",
       "all              1\n",
       "an               7\n",
       "by               1\n",
       "getting          2\n",
       "his              1\n",
       "incredibly       1\n",
       "infuriating      1\n",
       "just             4\n",
       "light            1\n",
       "my               1\n",
       "not              1\n",
       "officially       1\n",
       "one              4\n",
       "quite            3\n",
       "space            1\n",
       "such             1\n",
       "the              7\n",
       "this             1\n",
       "unacceptable     1\n",
       "very             4\n",
       "Name: name, dtype: int64"
      ]
     },
     "execution_count": 38,
     "metadata": {},
     "output_type": "execute_result"
    }
   ],
   "source": [
    "twitter_data.query('name in @my_list').name.value_counts().sort_index()"
   ]
  },
  {
   "cell_type": "code",
   "execution_count": 39,
   "metadata": {},
   "outputs": [
    {
     "data": {
      "text/plain": [
       "None     1993\n",
       "doggo      80\n",
       "Name: doggo, dtype: int64"
      ]
     },
     "execution_count": 39,
     "metadata": {},
     "output_type": "execute_result"
    }
   ],
   "source": [
    "twitter_data.doggo.value_counts()"
   ]
  },
  {
   "cell_type": "code",
   "execution_count": 40,
   "metadata": {},
   "outputs": [
    {
     "data": {
      "text/plain": [
       "None       2065\n",
       "floofer       8\n",
       "Name: floofer, dtype: int64"
      ]
     },
     "execution_count": 40,
     "metadata": {},
     "output_type": "execute_result"
    }
   ],
   "source": [
    "twitter_data.floofer.value_counts()"
   ]
  },
  {
   "cell_type": "code",
   "execution_count": 41,
   "metadata": {},
   "outputs": [
    {
     "data": {
      "text/plain": [
       "None      1852\n",
       "pupper     221\n",
       "Name: pupper, dtype: int64"
      ]
     },
     "execution_count": 41,
     "metadata": {},
     "output_type": "execute_result"
    }
   ],
   "source": [
    "twitter_data.pupper.value_counts()"
   ]
  },
  {
   "cell_type": "code",
   "execution_count": 42,
   "metadata": {},
   "outputs": [
    {
     "data": {
      "text/plain": [
       "None     2049\n",
       "puppo      24\n",
       "Name: puppo, dtype: int64"
      ]
     },
     "execution_count": 42,
     "metadata": {},
     "output_type": "execute_result"
    }
   ],
   "source": [
    "twitter_data.puppo.value_counts()"
   ]
  },
  {
   "cell_type": "code",
   "execution_count": 43,
   "metadata": {},
   "outputs": [
    {
     "data": {
      "text/plain": [
       "https://pbs.twimg.com/media/CVgdFjNWEAAxmbq.jpg    2\n",
       "https://pbs.twimg.com/media/Cx5R8wPVEAALa9r.jpg    2\n",
       "https://pbs.twimg.com/media/Cbs3DOAXIAAp3Bd.jpg    2\n",
       "https://pbs.twimg.com/media/CvyVxQRWEAAdSZS.jpg    2\n",
       "https://pbs.twimg.com/media/CeRoBaxWEAABi0X.jpg    2\n",
       "                                                  ..\n",
       "https://pbs.twimg.com/media/CoKqIndWgAAattd.jpg    1\n",
       "https://pbs.twimg.com/media/CoLNAq6WAAAkmdJ.jpg    1\n",
       "https://pbs.twimg.com/media/CoLTbbzXYAElNM6.jpg    1\n",
       "https://pbs.twimg.com/media/CoOFmk3WEAAG6ql.jpg    1\n",
       "https://pbs.twimg.com/media/CT4udn0WwAA0aMy.jpg    1\n",
       "Name: jpg_url, Length: 2008, dtype: int64"
      ]
     },
     "execution_count": 43,
     "metadata": {},
     "output_type": "execute_result"
    }
   ],
   "source": [
    "twitter_data.jpg_url.value_counts()"
   ]
  },
  {
   "cell_type": "markdown",
   "metadata": {},
   "source": [
    "- duplicates identified"
   ]
  },
  {
   "cell_type": "code",
   "execution_count": 44,
   "metadata": {},
   "outputs": [
    {
     "data": {
      "text/plain": [
       "1    1779\n",
       "2     197\n",
       "3      66\n",
       "4      31\n",
       "Name: img_num, dtype: int64"
      ]
     },
     "execution_count": 44,
     "metadata": {},
     "output_type": "execute_result"
    }
   ],
   "source": [
    "twitter_data.img_num.value_counts()"
   ]
  },
  {
   "cell_type": "code",
   "execution_count": 45,
   "metadata": {},
   "outputs": [
    {
     "data": {
      "text/plain": [
       "golden_retriever      150\n",
       "Labrador_retriever    100\n",
       "Pembroke               88\n",
       "Chihuahua              83\n",
       "pug                    57\n",
       "                     ... \n",
       "bonnet                  1\n",
       "alp                     1\n",
       "hammer                  1\n",
       "nail                    1\n",
       "desktop_computer        1\n",
       "Name: p1, Length: 378, dtype: int64"
      ]
     },
     "execution_count": 45,
     "metadata": {},
     "output_type": "execute_result"
    }
   ],
   "source": [
    "twitter_data.p1.value_counts()"
   ]
  },
  {
   "cell_type": "markdown",
   "metadata": {},
   "source": [
    "- Other (non dog) observations identified"
   ]
  },
  {
   "cell_type": "code",
   "execution_count": 46,
   "metadata": {},
   "outputs": [
    {
     "data": {
      "text/plain": [
       "0.740220    2\n",
       "0.474292    2\n",
       "0.907083    2\n",
       "0.585441    2\n",
       "0.574557    2\n",
       "           ..\n",
       "0.678555    1\n",
       "0.914667    1\n",
       "0.787125    1\n",
       "0.523926    1\n",
       "0.465074    1\n",
       "Name: p1_conf, Length: 2005, dtype: int64"
      ]
     },
     "execution_count": 46,
     "metadata": {},
     "output_type": "execute_result"
    }
   ],
   "source": [
    "twitter_data.p1_conf.value_counts()"
   ]
  },
  {
   "cell_type": "code",
   "execution_count": 47,
   "metadata": {},
   "outputs": [
    {
     "data": {
      "text/plain": [
       "True     1531\n",
       "False     542\n",
       "Name: p1_dog, dtype: int64"
      ]
     },
     "execution_count": 47,
     "metadata": {},
     "output_type": "execute_result"
    }
   ],
   "source": [
    "twitter_data.p1_dog.value_counts()"
   ]
  },
  {
   "cell_type": "code",
   "execution_count": 48,
   "metadata": {},
   "outputs": [
    {
     "data": {
      "text/plain": [
       "Labrador_retriever    104\n",
       "golden_retriever       92\n",
       "Cardigan               73\n",
       "Chihuahua              44\n",
       "Pomeranian             42\n",
       "                     ... \n",
       "coffee_mug              1\n",
       "sombrero                1\n",
       "handkerchief            1\n",
       "giant_panda             1\n",
       "mud_turtle              1\n",
       "Name: p2, Length: 404, dtype: int64"
      ]
     },
     "execution_count": 48,
     "metadata": {},
     "output_type": "execute_result"
    }
   ],
   "source": [
    "twitter_data.p2.value_counts()"
   ]
  },
  {
   "cell_type": "code",
   "execution_count": 49,
   "metadata": {},
   "outputs": [
    {
     "data": {
      "text/plain": [
       "0.069362    3\n",
       "0.095095    2\n",
       "0.061604    2\n",
       "0.192031    2\n",
       "0.252706    2\n",
       "           ..\n",
       "0.112676    1\n",
       "0.087800    1\n",
       "0.095718    1\n",
       "0.056627    1\n",
       "0.156665    1\n",
       "Name: p2_conf, Length: 2003, dtype: int64"
      ]
     },
     "execution_count": 49,
     "metadata": {},
     "output_type": "execute_result"
    }
   ],
   "source": [
    "twitter_data.p2_conf.value_counts()"
   ]
  },
  {
   "cell_type": "code",
   "execution_count": 50,
   "metadata": {},
   "outputs": [
    {
     "data": {
      "text/plain": [
       "True     1552\n",
       "False     521\n",
       "Name: p2_dog, dtype: int64"
      ]
     },
     "execution_count": 50,
     "metadata": {},
     "output_type": "execute_result"
    }
   ],
   "source": [
    "twitter_data.p2_dog.value_counts()"
   ]
  },
  {
   "cell_type": "code",
   "execution_count": 51,
   "metadata": {},
   "outputs": [
    {
     "data": {
      "text/plain": [
       "Labrador_retriever     79\n",
       "Chihuahua              58\n",
       "golden_retriever       48\n",
       "Eskimo_dog             38\n",
       "kelpie                 35\n",
       "                       ..\n",
       "rotisserie              1\n",
       "hand_blower             1\n",
       "American_black_bear     1\n",
       "viaduct                 1\n",
       "partridge               1\n",
       "Name: p3, Length: 407, dtype: int64"
      ]
     },
     "execution_count": 51,
     "metadata": {},
     "output_type": "execute_result"
    }
   ],
   "source": [
    "twitter_data.p3.value_counts()"
   ]
  },
  {
   "cell_type": "code",
   "execution_count": 52,
   "metadata": {},
   "outputs": [
    {
     "data": {
      "text/plain": [
       "0.117502    2\n",
       "0.003956    2\n",
       "0.007850    2\n",
       "0.157028    2\n",
       "0.071436    2\n",
       "           ..\n",
       "0.049033    1\n",
       "0.015477    1\n",
       "0.048039    1\n",
       "0.075127    1\n",
       "0.061428    1\n",
       "Name: p3_conf, Length: 2005, dtype: int64"
      ]
     },
     "execution_count": 52,
     "metadata": {},
     "output_type": "execute_result"
    }
   ],
   "source": [
    "twitter_data.p3_conf.value_counts()"
   ]
  },
  {
   "cell_type": "code",
   "execution_count": 53,
   "metadata": {},
   "outputs": [
    {
     "data": {
      "text/plain": [
       "True     1498\n",
       "False     575\n",
       "Name: p3_dog, dtype: int64"
      ]
     },
     "execution_count": 53,
     "metadata": {},
     "output_type": "execute_result"
    }
   ],
   "source": [
    "twitter_data.p3_dog.value_counts()"
   ]
  },
  {
   "cell_type": "code",
   "execution_count": 54,
   "metadata": {},
   "outputs": [
    {
     "data": {
      "text/plain": [
       "Tue Aug 01 16:23:56 +0000 2017    1\n",
       "Fri Jan 08 04:21:00 +0000 2016    1\n",
       "Mon Jan 04 01:53:37 +0000 2016    1\n",
       "Mon Jan 04 02:18:42 +0000 2016    1\n",
       "Mon Jan 04 03:18:23 +0000 2016    1\n",
       "                                 ..\n",
       "Thu Aug 18 00:28:24 +0000 2016    1\n",
       "Thu Aug 18 01:03:45 +0000 2016    1\n",
       "Thu Aug 18 16:38:26 +0000 2016    1\n",
       "Thu Aug 18 23:55:18 +0000 2016    1\n",
       "Sun Nov 15 22:32:08 +0000 2015    1\n",
       "Name: timestamp_y, Length: 2073, dtype: int64"
      ]
     },
     "execution_count": 54,
     "metadata": {},
     "output_type": "execute_result"
    }
   ],
   "source": [
    "twitter_data.timestamp_y.value_counts()"
   ]
  },
  {
   "cell_type": "code",
   "execution_count": 55,
   "metadata": {},
   "outputs": [
    {
     "data": {
      "text/plain": [
       "0        79\n",
       "2176      3\n",
       "2706      3\n",
       "2768      3\n",
       "2918      3\n",
       "         ..\n",
       "6718      1\n",
       "7099      1\n",
       "12902     1\n",
       "7842      1\n",
       "2535      1\n",
       "Name: favorites, Length: 1851, dtype: int64"
      ]
     },
     "execution_count": 55,
     "metadata": {},
     "output_type": "execute_result"
    }
   ],
   "source": [
    "twitter_data.favorites.value_counts()"
   ]
  },
  {
   "cell_type": "code",
   "execution_count": 56,
   "metadata": {},
   "outputs": [
    {
     "data": {
      "text/plain": [
       "542     4\n",
       "71      4\n",
       "1972    4\n",
       "819     4\n",
       "577     4\n",
       "       ..\n",
       "3018    1\n",
       "848     1\n",
       "1300    1\n",
       "1612    1\n",
       "147     1\n",
       "Name: retweets, Length: 1600, dtype: int64"
      ]
     },
     "execution_count": 56,
     "metadata": {},
     "output_type": "execute_result"
    }
   ],
   "source": [
    "twitter_data.retweets.value_counts()"
   ]
  },
  {
   "cell_type": "code",
   "execution_count": 57,
   "metadata": {},
   "outputs": [
    {
     "data": {
      "text/html": [
       "<div>\n",
       "<style scoped>\n",
       "    .dataframe tbody tr th:only-of-type {\n",
       "        vertical-align: middle;\n",
       "    }\n",
       "\n",
       "    .dataframe tbody tr th {\n",
       "        vertical-align: top;\n",
       "    }\n",
       "\n",
       "    .dataframe thead th {\n",
       "        text-align: right;\n",
       "    }\n",
       "</style>\n",
       "<table border=\"1\" class=\"dataframe\">\n",
       "  <thead>\n",
       "    <tr style=\"text-align: right;\">\n",
       "      <th></th>\n",
       "      <th>tweet_id</th>\n",
       "      <th>in_reply_to_status_id</th>\n",
       "      <th>in_reply_to_user_id</th>\n",
       "      <th>retweeted_status_id</th>\n",
       "      <th>retweeted_status_user_id</th>\n",
       "      <th>rating_numerator</th>\n",
       "      <th>rating_denominator</th>\n",
       "      <th>img_num</th>\n",
       "      <th>p1_conf</th>\n",
       "      <th>p2_conf</th>\n",
       "      <th>p3_conf</th>\n",
       "      <th>favorites</th>\n",
       "      <th>retweets</th>\n",
       "    </tr>\n",
       "  </thead>\n",
       "  <tbody>\n",
       "    <tr>\n",
       "      <th>count</th>\n",
       "      <td>2.073000e+03</td>\n",
       "      <td>2.300000e+01</td>\n",
       "      <td>2.300000e+01</td>\n",
       "      <td>7.900000e+01</td>\n",
       "      <td>7.900000e+01</td>\n",
       "      <td>2073.000000</td>\n",
       "      <td>2073.000000</td>\n",
       "      <td>2073.000000</td>\n",
       "      <td>2073.000000</td>\n",
       "      <td>2.073000e+03</td>\n",
       "      <td>2.073000e+03</td>\n",
       "      <td>2073.000000</td>\n",
       "      <td>2073.000000</td>\n",
       "    </tr>\n",
       "    <tr>\n",
       "      <th>mean</th>\n",
       "      <td>7.383634e+17</td>\n",
       "      <td>6.978112e+17</td>\n",
       "      <td>4.196984e+09</td>\n",
       "      <td>7.663364e+17</td>\n",
       "      <td>9.967874e+15</td>\n",
       "      <td>12.265798</td>\n",
       "      <td>10.511819</td>\n",
       "      <td>1.203570</td>\n",
       "      <td>0.594532</td>\n",
       "      <td>1.346665e-01</td>\n",
       "      <td>6.034005e-02</td>\n",
       "      <td>8556.718283</td>\n",
       "      <td>2976.089243</td>\n",
       "    </tr>\n",
       "    <tr>\n",
       "      <th>std</th>\n",
       "      <td>6.780118e+16</td>\n",
       "      <td>4.359384e+16</td>\n",
       "      <td>0.000000e+00</td>\n",
       "      <td>5.882530e+16</td>\n",
       "      <td>8.859637e+16</td>\n",
       "      <td>40.699924</td>\n",
       "      <td>7.180517</td>\n",
       "      <td>0.561856</td>\n",
       "      <td>0.271234</td>\n",
       "      <td>1.006830e-01</td>\n",
       "      <td>5.092769e-02</td>\n",
       "      <td>12098.640994</td>\n",
       "      <td>5054.897526</td>\n",
       "    </tr>\n",
       "    <tr>\n",
       "      <th>min</th>\n",
       "      <td>6.660209e+17</td>\n",
       "      <td>6.671522e+17</td>\n",
       "      <td>4.196984e+09</td>\n",
       "      <td>6.675094e+17</td>\n",
       "      <td>7.832140e+05</td>\n",
       "      <td>0.000000</td>\n",
       "      <td>2.000000</td>\n",
       "      <td>1.000000</td>\n",
       "      <td>0.044333</td>\n",
       "      <td>1.011300e-08</td>\n",
       "      <td>1.740170e-10</td>\n",
       "      <td>0.000000</td>\n",
       "      <td>16.000000</td>\n",
       "    </tr>\n",
       "    <tr>\n",
       "      <th>25%</th>\n",
       "      <td>6.764706e+17</td>\n",
       "      <td>6.732411e+17</td>\n",
       "      <td>4.196984e+09</td>\n",
       "      <td>7.124037e+17</td>\n",
       "      <td>4.196984e+09</td>\n",
       "      <td>10.000000</td>\n",
       "      <td>10.000000</td>\n",
       "      <td>1.000000</td>\n",
       "      <td>0.364095</td>\n",
       "      <td>5.390140e-02</td>\n",
       "      <td>1.619920e-02</td>\n",
       "      <td>1674.000000</td>\n",
       "      <td>634.000000</td>\n",
       "    </tr>\n",
       "    <tr>\n",
       "      <th>50%</th>\n",
       "      <td>7.119681e+17</td>\n",
       "      <td>6.757073e+17</td>\n",
       "      <td>4.196984e+09</td>\n",
       "      <td>7.798343e+17</td>\n",
       "      <td>4.196984e+09</td>\n",
       "      <td>11.000000</td>\n",
       "      <td>10.000000</td>\n",
       "      <td>1.000000</td>\n",
       "      <td>0.588230</td>\n",
       "      <td>1.186220e-01</td>\n",
       "      <td>4.947150e-02</td>\n",
       "      <td>3864.000000</td>\n",
       "      <td>1408.000000</td>\n",
       "    </tr>\n",
       "    <tr>\n",
       "      <th>75%</th>\n",
       "      <td>7.931959e+17</td>\n",
       "      <td>7.031489e+17</td>\n",
       "      <td>4.196984e+09</td>\n",
       "      <td>8.068680e+17</td>\n",
       "      <td>4.196984e+09</td>\n",
       "      <td>12.000000</td>\n",
       "      <td>10.000000</td>\n",
       "      <td>1.000000</td>\n",
       "      <td>0.843911</td>\n",
       "      <td>1.955730e-01</td>\n",
       "      <td>9.193000e-02</td>\n",
       "      <td>10937.000000</td>\n",
       "      <td>3443.000000</td>\n",
       "    </tr>\n",
       "    <tr>\n",
       "      <th>max</th>\n",
       "      <td>8.924206e+17</td>\n",
       "      <td>8.558181e+17</td>\n",
       "      <td>4.196984e+09</td>\n",
       "      <td>8.768508e+17</td>\n",
       "      <td>7.874618e+17</td>\n",
       "      <td>1776.000000</td>\n",
       "      <td>170.000000</td>\n",
       "      <td>4.000000</td>\n",
       "      <td>1.000000</td>\n",
       "      <td>4.880140e-01</td>\n",
       "      <td>2.734190e-01</td>\n",
       "      <td>132810.000000</td>\n",
       "      <td>79515.000000</td>\n",
       "    </tr>\n",
       "  </tbody>\n",
       "</table>\n",
       "</div>"
      ],
      "text/plain": [
       "           tweet_id  in_reply_to_status_id  in_reply_to_user_id  \\\n",
       "count  2.073000e+03           2.300000e+01         2.300000e+01   \n",
       "mean   7.383634e+17           6.978112e+17         4.196984e+09   \n",
       "std    6.780118e+16           4.359384e+16         0.000000e+00   \n",
       "min    6.660209e+17           6.671522e+17         4.196984e+09   \n",
       "25%    6.764706e+17           6.732411e+17         4.196984e+09   \n",
       "50%    7.119681e+17           6.757073e+17         4.196984e+09   \n",
       "75%    7.931959e+17           7.031489e+17         4.196984e+09   \n",
       "max    8.924206e+17           8.558181e+17         4.196984e+09   \n",
       "\n",
       "       retweeted_status_id  retweeted_status_user_id  rating_numerator  \\\n",
       "count         7.900000e+01              7.900000e+01       2073.000000   \n",
       "mean          7.663364e+17              9.967874e+15         12.265798   \n",
       "std           5.882530e+16              8.859637e+16         40.699924   \n",
       "min           6.675094e+17              7.832140e+05          0.000000   \n",
       "25%           7.124037e+17              4.196984e+09         10.000000   \n",
       "50%           7.798343e+17              4.196984e+09         11.000000   \n",
       "75%           8.068680e+17              4.196984e+09         12.000000   \n",
       "max           8.768508e+17              7.874618e+17       1776.000000   \n",
       "\n",
       "       rating_denominator      img_num      p1_conf       p2_conf  \\\n",
       "count         2073.000000  2073.000000  2073.000000  2.073000e+03   \n",
       "mean            10.511819     1.203570     0.594532  1.346665e-01   \n",
       "std              7.180517     0.561856     0.271234  1.006830e-01   \n",
       "min              2.000000     1.000000     0.044333  1.011300e-08   \n",
       "25%             10.000000     1.000000     0.364095  5.390140e-02   \n",
       "50%             10.000000     1.000000     0.588230  1.186220e-01   \n",
       "75%             10.000000     1.000000     0.843911  1.955730e-01   \n",
       "max            170.000000     4.000000     1.000000  4.880140e-01   \n",
       "\n",
       "            p3_conf      favorites      retweets  \n",
       "count  2.073000e+03    2073.000000   2073.000000  \n",
       "mean   6.034005e-02    8556.718283   2976.089243  \n",
       "std    5.092769e-02   12098.640994   5054.897526  \n",
       "min    1.740170e-10       0.000000     16.000000  \n",
       "25%    1.619920e-02    1674.000000    634.000000  \n",
       "50%    4.947150e-02    3864.000000   1408.000000  \n",
       "75%    9.193000e-02   10937.000000   3443.000000  \n",
       "max    2.734190e-01  132810.000000  79515.000000  "
      ]
     },
     "execution_count": 57,
     "metadata": {},
     "output_type": "execute_result"
    }
   ],
   "source": [
    "twitter_data.describe()"
   ]
  },
  {
   "cell_type": "code",
   "execution_count": 58,
   "metadata": {},
   "outputs": [
    {
     "data": {
      "text/plain": [
       "0"
      ]
     },
     "execution_count": 58,
     "metadata": {},
     "output_type": "execute_result"
    }
   ],
   "source": [
    "#  check the unique identifier\n",
    "twitter_data.tweet_id.duplicated().sum()"
   ]
  },
  {
   "cell_type": "markdown",
   "metadata": {},
   "source": [
    "## Now let's summarize the issues identified during the assessment stage"
   ]
  },
  {
   "cell_type": "markdown",
   "metadata": {},
   "source": [
    "### Quality issues\n",
    "- Missing values identified in `in_reply_to_status_id`, `in_reply_to_user_id`, `retweeted_status_id`, `retweeted_status_user_id`, and `retweeted_status_timestamp` columns\n",
    "\n",
    "- In `p1`, `p2`, and `p3` columns dog names are both lowercase and uppercase \n",
    "\n",
    "- `timestamp`, `retweeted_status_timestamp` columns are not in date-time format\n",
    "\n",
    "- `tweet_id`, `in_reply_to_status_id`, `in_reply_to_user_id`, `retweeted_status_id`, `retweeted_status_user_id` columns are not string\n",
    "\n",
    "- `source` column can be cleaned so that we might have four categories\n",
    "\n",
    "- Suspicious character identified like 'a' 'actually' 'all' 'an' 'by' ect. in the `name` column \n",
    "\n",
    "- Missing values are presented both as None and NaN in the `name` column\n",
    "\n",
    "- Duplicates identified in the `expanded_urls` column\n",
    "\n",
    "- Keep only original ratings (no retweets) that have images (i.e. rows where retweeted_status_id and retweeted_status_user_id are not NaN). Do not gather the tweets beyond August 1st, 2017"
   ]
  },
  {
   "cell_type": "markdown",
   "metadata": {
    "extensions": {
     "jupyter_dashboards": {
      "version": 1,
      "views": {
       "grid_default": {
        "col": 0,
        "height": 7,
        "hidden": false,
        "row": 40,
        "width": 12
       },
       "report_default": {
        "hidden": false
       }
      }
     }
    }
   },
   "source": [
    "### Tidiness issues\n",
    "- Multiple timestamp columns after merging - drop the one and rename the other one so that we have one dataset\n",
    "\n",
    "- `doggo`, `floofer`, `pupper`, `puppo` columns have issue with tidiness\n",
    "\n",
    "- Drop other useless columns as well\n",
    "\n"
   ]
  },
  {
   "cell_type": "markdown",
   "metadata": {
    "extensions": {
     "jupyter_dashboards": {
      "version": 1,
      "views": {
       "grid_default": {
        "col": 4,
        "height": 4,
        "hidden": false,
        "row": 32,
        "width": 4
       },
       "report_default": {
        "hidden": false
       }
      }
     }
    }
   },
   "source": [
    "## Cleaning Data\n",
    "In this section, clean **all** of the issues you documented while assessing. \n",
    "\n",
    "**Note:** Make a copy of the original data before cleaning. Cleaning includes merging individual pieces of data according to the rules of [tidy data](https://cran.r-project.org/web/packages/tidyr/vignettes/tidy-data.html). The result should be a high-quality and tidy master pandas DataFrame (or DataFrames, if appropriate)."
   ]
  },
  {
   "cell_type": "code",
   "execution_count": 59,
   "metadata": {},
   "outputs": [],
   "source": [
    "# Make copies of original pieces of data\n",
    "twitter_data_clean = twitter_data.copy()"
   ]
  },
  {
   "cell_type": "markdown",
   "metadata": {},
   "source": [
    "### Issue 1: keep only original ratings (no retweets) that have images (i.e. rows where retweeted_status_id and retweeted_status_user_id are not NaN) and are not beyond 01.08.2017"
   ]
  },
  {
   "cell_type": "markdown",
   "metadata": {
    "collapsed": true,
    "extensions": {
     "jupyter_dashboards": {
      "version": 1,
      "views": {
       "grid_default": {
        "hidden": true
       },
       "report_default": {
        "hidden": true
       }
      }
     }
    }
   },
   "source": [
    "#### Define: keep only the rows where `retweeted_status_id` are NaN and timestamp is lower then 02.08.2017, then remove  `retweeted_status_id`, `retweeted_status_user_id`, `in_reply_to_status_id`, `in_reply_to_user_id` and `retweeted_status_timestamp` columns"
   ]
  },
  {
   "cell_type": "markdown",
   "metadata": {},
   "source": [
    "#### Code"
   ]
  },
  {
   "cell_type": "code",
   "execution_count": 60,
   "metadata": {},
   "outputs": [
    {
     "name": "stderr",
     "output_type": "stream",
     "text": [
      "C:\\Users\\manuk\\AppData\\Local\\Temp\\ipykernel_14332\\3039254920.py:2: FutureWarning: In a future version of pandas all arguments of DataFrame.drop except for the argument 'labels' will be keyword-only.\n",
      "  twitter_data_clean = twitter_data_clean.drop(['retweeted_status_id', 'retweeted_status_user_id', 'retweeted_status_timestamp', 'in_reply_to_status_id', 'in_reply_to_user_id'], 1)\n"
     ]
    }
   ],
   "source": [
    "twitter_data_clean = twitter_data_clean[(pd.isnull(twitter_data_clean['retweeted_status_user_id']))]\n",
    "twitter_data_clean = twitter_data_clean.drop(['retweeted_status_id', 'retweeted_status_user_id', 'retweeted_status_timestamp', 'in_reply_to_status_id', 'in_reply_to_user_id'], 1)"
   ]
  },
  {
   "cell_type": "code",
   "execution_count": 61,
   "metadata": {},
   "outputs": [
    {
     "data": {
      "text/plain": [
       "0       2017-08-01 16:23:56 +0000\n",
       "1       2017-08-01 00:17:27 +0000\n",
       "2       2017-07-31 00:18:03 +0000\n",
       "3       2017-07-30 15:58:51 +0000\n",
       "4       2017-07-29 16:00:24 +0000\n",
       "                  ...            \n",
       "2068    2015-11-16 00:24:50 +0000\n",
       "2069    2015-11-16 00:04:52 +0000\n",
       "2070    2015-11-15 23:21:54 +0000\n",
       "2071    2015-11-15 23:05:30 +0000\n",
       "2072    2015-11-15 22:32:08 +0000\n",
       "Name: timestamp_x, Length: 1994, dtype: object"
      ]
     },
     "execution_count": 61,
     "metadata": {},
     "output_type": "execute_result"
    }
   ],
   "source": [
    "# Check the date entries\n",
    "twitter_data_clean['timestamp_x']"
   ]
  },
  {
   "cell_type": "markdown",
   "metadata": {},
   "source": [
    "#### Test"
   ]
  },
  {
   "cell_type": "code",
   "execution_count": 62,
   "metadata": {},
   "outputs": [
    {
     "name": "stdout",
     "output_type": "stream",
     "text": [
      "<class 'pandas.core.frame.DataFrame'>\n",
      "Int64Index: 1994 entries, 0 to 2072\n",
      "Data columns (total 26 columns):\n",
      " #   Column              Non-Null Count  Dtype  \n",
      "---  ------              --------------  -----  \n",
      " 0   tweet_id            1994 non-null   int64  \n",
      " 1   timestamp_x         1994 non-null   object \n",
      " 2   source              1994 non-null   object \n",
      " 3   text                1994 non-null   object \n",
      " 4   expanded_urls       1994 non-null   object \n",
      " 5   rating_numerator    1994 non-null   int64  \n",
      " 6   rating_denominator  1994 non-null   int64  \n",
      " 7   name                1994 non-null   object \n",
      " 8   doggo               1994 non-null   object \n",
      " 9   floofer             1994 non-null   object \n",
      " 10  pupper              1994 non-null   object \n",
      " 11  puppo               1994 non-null   object \n",
      " 12  jpg_url             1994 non-null   object \n",
      " 13  img_num             1994 non-null   int64  \n",
      " 14  p1                  1994 non-null   object \n",
      " 15  p1_conf             1994 non-null   float64\n",
      " 16  p1_dog              1994 non-null   bool   \n",
      " 17  p2                  1994 non-null   object \n",
      " 18  p2_conf             1994 non-null   float64\n",
      " 19  p2_dog              1994 non-null   bool   \n",
      " 20  p3                  1994 non-null   object \n",
      " 21  p3_conf             1994 non-null   float64\n",
      " 22  p3_dog              1994 non-null   bool   \n",
      " 23  timestamp_y         1994 non-null   object \n",
      " 24  favorites           1994 non-null   int64  \n",
      " 25  retweets            1994 non-null   int64  \n",
      "dtypes: bool(3), float64(3), int64(6), object(14)\n",
      "memory usage: 379.7+ KB\n"
     ]
    }
   ],
   "source": [
    "twitter_data_clean.info()"
   ]
  },
  {
   "cell_type": "markdown",
   "metadata": {},
   "source": [
    "### Issue #2: multiple timestamp columns after merging - drop the one and rename the other one so that we have one dataset"
   ]
  },
  {
   "cell_type": "markdown",
   "metadata": {
    "collapsed": true,
    "extensions": {
     "jupyter_dashboards": {
      "version": 1,
      "views": {
       "grid_default": {
        "hidden": true
       },
       "report_default": {
        "hidden": true
       }
      }
     }
    }
   },
   "source": [
    "#### Define: drop timestamp_y column, and rename timestamp_x column to timestamp"
   ]
  },
  {
   "cell_type": "markdown",
   "metadata": {},
   "source": [
    "#### Code"
   ]
  },
  {
   "cell_type": "code",
   "execution_count": 63,
   "metadata": {},
   "outputs": [],
   "source": [
    "twitter_data_clean.drop(['timestamp_y'], axis=1, inplace=True)\n",
    "twitter_data_clean.rename(columns={'timestamp_x': 'timestamp'}, inplace=True)"
   ]
  },
  {
   "cell_type": "markdown",
   "metadata": {},
   "source": [
    "#### Test"
   ]
  },
  {
   "cell_type": "code",
   "execution_count": 64,
   "metadata": {},
   "outputs": [
    {
     "name": "stdout",
     "output_type": "stream",
     "text": [
      "<class 'pandas.core.frame.DataFrame'>\n",
      "Int64Index: 1994 entries, 0 to 2072\n",
      "Data columns (total 25 columns):\n",
      " #   Column              Non-Null Count  Dtype  \n",
      "---  ------              --------------  -----  \n",
      " 0   tweet_id            1994 non-null   int64  \n",
      " 1   timestamp           1994 non-null   object \n",
      " 2   source              1994 non-null   object \n",
      " 3   text                1994 non-null   object \n",
      " 4   expanded_urls       1994 non-null   object \n",
      " 5   rating_numerator    1994 non-null   int64  \n",
      " 6   rating_denominator  1994 non-null   int64  \n",
      " 7   name                1994 non-null   object \n",
      " 8   doggo               1994 non-null   object \n",
      " 9   floofer             1994 non-null   object \n",
      " 10  pupper              1994 non-null   object \n",
      " 11  puppo               1994 non-null   object \n",
      " 12  jpg_url             1994 non-null   object \n",
      " 13  img_num             1994 non-null   int64  \n",
      " 14  p1                  1994 non-null   object \n",
      " 15  p1_conf             1994 non-null   float64\n",
      " 16  p1_dog              1994 non-null   bool   \n",
      " 17  p2                  1994 non-null   object \n",
      " 18  p2_conf             1994 non-null   float64\n",
      " 19  p2_dog              1994 non-null   bool   \n",
      " 20  p3                  1994 non-null   object \n",
      " 21  p3_conf             1994 non-null   float64\n",
      " 22  p3_dog              1994 non-null   bool   \n",
      " 23  favorites           1994 non-null   int64  \n",
      " 24  retweets            1994 non-null   int64  \n",
      "dtypes: bool(3), float64(3), int64(6), object(13)\n",
      "memory usage: 364.1+ KB\n"
     ]
    }
   ],
   "source": [
    "twitter_data_clean.info()"
   ]
  },
  {
   "cell_type": "markdown",
   "metadata": {},
   "source": [
    "### Issue #3: `source` column can be cleaned the  so that we might have four categories"
   ]
  },
  {
   "cell_type": "markdown",
   "metadata": {},
   "source": [
    "#### Define: delete the html structure by using regular expressions"
   ]
  },
  {
   "cell_type": "markdown",
   "metadata": {},
   "source": [
    "#### Code"
   ]
  },
  {
   "cell_type": "code",
   "execution_count": 65,
   "metadata": {},
   "outputs": [
    {
     "name": "stderr",
     "output_type": "stream",
     "text": [
      "C:\\Users\\manuk\\AppData\\Local\\Temp\\ipykernel_14332\\2169504286.py:1: FutureWarning: The default value of regex will change from True to False in a future version.\n",
      "  twitter_data_clean[\"source\"] = twitter_data_clean[\"source\"].str.replace(r'<(?:a\\b[^>]*>|/a>)', '')\n"
     ]
    }
   ],
   "source": [
    "twitter_data_clean[\"source\"] = twitter_data_clean[\"source\"].str.replace(r'<(?:a\\b[^>]*>|/a>)', '')"
   ]
  },
  {
   "cell_type": "markdown",
   "metadata": {},
   "source": [
    "#### Test"
   ]
  },
  {
   "cell_type": "code",
   "execution_count": 66,
   "metadata": {},
   "outputs": [
    {
     "data": {
      "text/plain": [
       "Twitter for iPhone    1955\n",
       "Twitter Web Client      28\n",
       "TweetDeck               11\n",
       "Name: source, dtype: int64"
      ]
     },
     "execution_count": 66,
     "metadata": {},
     "output_type": "execute_result"
    }
   ],
   "source": [
    "twitter_data_clean.source.value_counts()"
   ]
  },
  {
   "cell_type": "markdown",
   "metadata": {},
   "source": [
    "### Issue #4: suspicious character identified like 'a' 'actually' 'all' 'an' 'by' ect. in the `name` column identified \n",
    "### Issue #5: Missing values are presented both as None and NaN in the `name` column"
   ]
  },
  {
   "cell_type": "markdown",
   "metadata": {
    "collapsed": true,
    "extensions": {
     "jupyter_dashboards": {
      "version": 1,
      "views": {
       "grid_default": {
        "hidden": true
       },
       "report_default": {
        "hidden": true
       }
      }
     }
    }
   },
   "source": [
    "#### Define: replace non-dog names with None, then replace None with NaN"
   ]
  },
  {
   "cell_type": "markdown",
   "metadata": {},
   "source": [
    "#### Code"
   ]
  },
  {
   "cell_type": "code",
   "execution_count": 67,
   "metadata": {},
   "outputs": [],
   "source": [
    "my_list = twitter_data_clean['name'].str.extractall(r'(\\b[a-z]+\\b)')[0].tolist()\n",
    "non_dog = twitter_data_clean.query('name in @my_list').name.value_counts().sort_index()"
   ]
  },
  {
   "cell_type": "code",
   "execution_count": 68,
   "metadata": {},
   "outputs": [],
   "source": [
    "for name in my_list:\n",
    "    twitter_data_clean.loc[twitter_data_clean.name == name, 'name'] = None"
   ]
  },
  {
   "cell_type": "code",
   "execution_count": 69,
   "metadata": {},
   "outputs": [],
   "source": [
    "twitter_data_clean['name'].replace('None', np.nan, inplace = True)"
   ]
  },
  {
   "cell_type": "markdown",
   "metadata": {},
   "source": [
    "#### Test"
   ]
  },
  {
   "cell_type": "code",
   "execution_count": 70,
   "metadata": {},
   "outputs": [
    {
     "data": {
      "text/plain": [
       "Charlie       11\n",
       "Cooper        10\n",
       "Lucy          10\n",
       "Oliver        10\n",
       "Penny          9\n",
       "              ..\n",
       "Leela          1\n",
       "Glenn          1\n",
       "Shelby         1\n",
       "Sephie         1\n",
       "Christoper     1\n",
       "Name: name, Length: 913, dtype: int64"
      ]
     },
     "execution_count": 70,
     "metadata": {},
     "output_type": "execute_result"
    }
   ],
   "source": [
    "twitter_data_clean.name.value_counts()"
   ]
  },
  {
   "cell_type": "markdown",
   "metadata": {},
   "source": [
    "### Issue #6: duplicates identified in the `expanded_urls` column"
   ]
  },
  {
   "cell_type": "markdown",
   "metadata": {
    "collapsed": true,
    "extensions": {
     "jupyter_dashboards": {
      "version": 1,
      "views": {
       "grid_default": {
        "hidden": true
       },
       "report_default": {
        "hidden": true
       }
      }
     }
    }
   },
   "source": [
    "#### Define: remove missing values using .dropna"
   ]
  },
  {
   "cell_type": "markdown",
   "metadata": {},
   "source": [
    "#### Code"
   ]
  },
  {
   "cell_type": "code",
   "execution_count": 71,
   "metadata": {},
   "outputs": [],
   "source": [
    "twitter_data_clean.dropna(subset=['expanded_urls'], inplace=True)"
   ]
  },
  {
   "cell_type": "markdown",
   "metadata": {},
   "source": [
    "#### Test"
   ]
  },
  {
   "cell_type": "code",
   "execution_count": 72,
   "metadata": {},
   "outputs": [
    {
     "data": {
      "text/plain": [
       "0"
      ]
     },
     "execution_count": 72,
     "metadata": {},
     "output_type": "execute_result"
    }
   ],
   "source": [
    "twitter_data_clean.expanded_urls.isnull().sum()"
   ]
  },
  {
   "cell_type": "markdown",
   "metadata": {},
   "source": [
    "### Issue #7: in `p1`, `p2`, and `p3` columns dog names are both lowercase and uppercase "
   ]
  },
  {
   "cell_type": "markdown",
   "metadata": {
    "collapsed": true,
    "extensions": {
     "jupyter_dashboards": {
      "version": 1,
      "views": {
       "grid_default": {
        "hidden": true
       },
       "report_default": {
        "hidden": true
       }
      }
     }
    }
   },
   "source": [
    "#### Define: turn all the entries in the columns lowercase"
   ]
  },
  {
   "cell_type": "markdown",
   "metadata": {},
   "source": [
    "#### Code"
   ]
  },
  {
   "cell_type": "code",
   "execution_count": 73,
   "metadata": {},
   "outputs": [],
   "source": [
    "twitter_data_clean['p1'] = twitter_data_clean['p1'].str.lower()\n",
    "twitter_data_clean['p2'] = twitter_data_clean['p2'].str.lower()\n",
    "twitter_data_clean['p3'] = twitter_data_clean['p3'].str.lower()"
   ]
  },
  {
   "cell_type": "markdown",
   "metadata": {},
   "source": [
    "#### Test"
   ]
  },
  {
   "cell_type": "code",
   "execution_count": 74,
   "metadata": {},
   "outputs": [
    {
     "data": {
      "text/html": [
       "<div>\n",
       "<style scoped>\n",
       "    .dataframe tbody tr th:only-of-type {\n",
       "        vertical-align: middle;\n",
       "    }\n",
       "\n",
       "    .dataframe tbody tr th {\n",
       "        vertical-align: top;\n",
       "    }\n",
       "\n",
       "    .dataframe thead th {\n",
       "        text-align: right;\n",
       "    }\n",
       "</style>\n",
       "<table border=\"1\" class=\"dataframe\">\n",
       "  <thead>\n",
       "    <tr style=\"text-align: right;\">\n",
       "      <th></th>\n",
       "      <th>p1</th>\n",
       "      <th>p2</th>\n",
       "      <th>p3</th>\n",
       "    </tr>\n",
       "  </thead>\n",
       "  <tbody>\n",
       "    <tr>\n",
       "      <th>1780</th>\n",
       "      <td>chihuahua</td>\n",
       "      <td>whippet</td>\n",
       "      <td>toy_terrier</td>\n",
       "    </tr>\n",
       "    <tr>\n",
       "      <th>1378</th>\n",
       "      <td>pembroke</td>\n",
       "      <td>black-footed_ferret</td>\n",
       "      <td>weasel</td>\n",
       "    </tr>\n",
       "    <tr>\n",
       "      <th>382</th>\n",
       "      <td>tibetan_mastiff</td>\n",
       "      <td>tibetan_terrier</td>\n",
       "      <td>otterhound</td>\n",
       "    </tr>\n",
       "    <tr>\n",
       "      <th>687</th>\n",
       "      <td>welsh_springer_spaniel</td>\n",
       "      <td>basset</td>\n",
       "      <td>brittany_spaniel</td>\n",
       "    </tr>\n",
       "    <tr>\n",
       "      <th>795</th>\n",
       "      <td>pug</td>\n",
       "      <td>teddy</td>\n",
       "      <td>brabancon_griffon</td>\n",
       "    </tr>\n",
       "    <tr>\n",
       "      <th>383</th>\n",
       "      <td>border_collie</td>\n",
       "      <td>cardigan</td>\n",
       "      <td>collie</td>\n",
       "    </tr>\n",
       "    <tr>\n",
       "      <th>1225</th>\n",
       "      <td>pug</td>\n",
       "      <td>bull_mastiff</td>\n",
       "      <td>pekinese</td>\n",
       "    </tr>\n",
       "    <tr>\n",
       "      <th>1042</th>\n",
       "      <td>leatherback_turtle</td>\n",
       "      <td>loggerhead</td>\n",
       "      <td>dandie_dinmont</td>\n",
       "    </tr>\n",
       "    <tr>\n",
       "      <th>1907</th>\n",
       "      <td>golden_retriever</td>\n",
       "      <td>irish_setter</td>\n",
       "      <td>redbone</td>\n",
       "    </tr>\n",
       "    <tr>\n",
       "      <th>1548</th>\n",
       "      <td>whippet</td>\n",
       "      <td>great_dane</td>\n",
       "      <td>boxer</td>\n",
       "    </tr>\n",
       "  </tbody>\n",
       "</table>\n",
       "</div>"
      ],
      "text/plain": [
       "                          p1                   p2                 p3\n",
       "1780               chihuahua              whippet        toy_terrier\n",
       "1378                pembroke  black-footed_ferret             weasel\n",
       "382          tibetan_mastiff      tibetan_terrier         otterhound\n",
       "687   welsh_springer_spaniel               basset   brittany_spaniel\n",
       "795                      pug                teddy  brabancon_griffon\n",
       "383            border_collie             cardigan             collie\n",
       "1225                     pug         bull_mastiff           pekinese\n",
       "1042      leatherback_turtle           loggerhead     dandie_dinmont\n",
       "1907        golden_retriever         irish_setter            redbone\n",
       "1548                 whippet           great_dane              boxer"
      ]
     },
     "execution_count": 74,
     "metadata": {},
     "output_type": "execute_result"
    }
   ],
   "source": [
    "twitter_data_clean[['p1','p2','p3']].sample(10)"
   ]
  },
  {
   "cell_type": "markdown",
   "metadata": {},
   "source": [
    "### Issue #8: `doggo`, `floofer`, `pupper`, `puppo` columns have issue with tidiness"
   ]
  },
  {
   "cell_type": "markdown",
   "metadata": {
    "collapsed": true,
    "extensions": {
     "jupyter_dashboards": {
      "version": 1,
      "views": {
       "grid_default": {
        "hidden": true
       },
       "report_default": {
        "hidden": true
       }
      }
     }
    }
   },
   "source": [
    "#### Define: combine columns into one column "
   ]
  },
  {
   "cell_type": "markdown",
   "metadata": {},
   "source": [
    "#### Code"
   ]
  },
  {
   "cell_type": "code",
   "execution_count": 75,
   "metadata": {},
   "outputs": [],
   "source": [
    "twitter_data_clean.doggo.replace('None', '', inplace=True)\n",
    "twitter_data_clean.doggo.replace(np.NaN, '', inplace=True)\n",
    "twitter_data_clean.floofer.replace('None', '', inplace=True)\n",
    "twitter_data_clean.floofer.replace(np.NaN, '', inplace=True)\n",
    "twitter_data_clean.pupper.replace('None', '', inplace=True)\n",
    "twitter_data_clean.pupper.replace(np.NaN, '', inplace=True)\n",
    "twitter_data_clean.puppo.replace('None', '', inplace=True)\n",
    "twitter_data_clean.puppo.replace(np.NaN, '', inplace=True)"
   ]
  },
  {
   "cell_type": "code",
   "execution_count": 76,
   "metadata": {},
   "outputs": [],
   "source": [
    "twitter_data_clean['dog_type'] = twitter_data_clean.text.str.extract('(doggo|floofer|pupper|puppo)', expand = True)\n",
    "\n",
    "twitter_data_clean['dog_type'] = twitter_data_clean.doggo + twitter_data_clean.floofer + twitter_data_clean.pupper + twitter_data_clean.puppo\n",
    "twitter_data_clean.loc[twitter_data_clean.dog_type == 'doggopupper', 'dog_type'] = 'doggo, pupper'\n",
    "twitter_data_clean.loc[twitter_data_clean.dog_type == 'doggopuppo', 'dog_type'] = 'doggo, puppo'\n",
    "twitter_data_clean.loc[twitter_data_clean.dog_type == 'doggofloofer', 'dog_type'] = 'doggo, floofer'"
   ]
  },
  {
   "cell_type": "code",
   "execution_count": 77,
   "metadata": {},
   "outputs": [],
   "source": [
    "twitter_data_clean.drop(['doggo','floofer','pupper','puppo'], axis=1, inplace = True)"
   ]
  },
  {
   "cell_type": "markdown",
   "metadata": {},
   "source": [
    "#### Test"
   ]
  },
  {
   "cell_type": "code",
   "execution_count": 78,
   "metadata": {},
   "outputs": [
    {
     "data": {
      "text/plain": [
       "                  1688\n",
       "pupper             203\n",
       "doggo               63\n",
       "puppo               22\n",
       "doggo, pupper        9\n",
       "floofer              7\n",
       "doggo, puppo         1\n",
       "doggo, floofer       1\n",
       "Name: dog_type, dtype: int64"
      ]
     },
     "execution_count": 78,
     "metadata": {},
     "output_type": "execute_result"
    }
   ],
   "source": [
    "twitter_data_clean.dog_type.value_counts()"
   ]
  },
  {
   "cell_type": "code",
   "execution_count": 79,
   "metadata": {},
   "outputs": [
    {
     "name": "stdout",
     "output_type": "stream",
     "text": [
      "<class 'pandas.core.frame.DataFrame'>\n",
      "Int64Index: 1994 entries, 0 to 2072\n",
      "Data columns (total 22 columns):\n",
      " #   Column              Non-Null Count  Dtype  \n",
      "---  ------              --------------  -----  \n",
      " 0   tweet_id            1994 non-null   int64  \n",
      " 1   timestamp           1994 non-null   object \n",
      " 2   source              1994 non-null   object \n",
      " 3   text                1994 non-null   object \n",
      " 4   expanded_urls       1994 non-null   object \n",
      " 5   rating_numerator    1994 non-null   int64  \n",
      " 6   rating_denominator  1994 non-null   int64  \n",
      " 7   name                1350 non-null   object \n",
      " 8   jpg_url             1994 non-null   object \n",
      " 9   img_num             1994 non-null   int64  \n",
      " 10  p1                  1994 non-null   object \n",
      " 11  p1_conf             1994 non-null   float64\n",
      " 12  p1_dog              1994 non-null   bool   \n",
      " 13  p2                  1994 non-null   object \n",
      " 14  p2_conf             1994 non-null   float64\n",
      " 15  p2_dog              1994 non-null   bool   \n",
      " 16  p3                  1994 non-null   object \n",
      " 17  p3_conf             1994 non-null   float64\n",
      " 18  p3_dog              1994 non-null   bool   \n",
      " 19  favorites           1994 non-null   int64  \n",
      " 20  retweets            1994 non-null   int64  \n",
      " 21  dog_type            1994 non-null   object \n",
      "dtypes: bool(3), float64(3), int64(6), object(10)\n",
      "memory usage: 317.4+ KB\n"
     ]
    }
   ],
   "source": [
    "twitter_data_clean.info()"
   ]
  },
  {
   "cell_type": "markdown",
   "metadata": {},
   "source": [
    "### Issue #9: `timestamp` column is not in date-time format\n",
    "### Issue #10: `tweet_id` column is not string"
   ]
  },
  {
   "cell_type": "markdown",
   "metadata": {
    "collapsed": true,
    "extensions": {
     "jupyter_dashboards": {
      "version": 1,
      "views": {
       "grid_default": {
        "hidden": true
       },
       "report_default": {
        "hidden": true
       }
      }
     }
    }
   },
   "source": [
    "#### Define: correct wrong data types "
   ]
  },
  {
   "cell_type": "markdown",
   "metadata": {},
   "source": [
    "#### Code"
   ]
  },
  {
   "cell_type": "code",
   "execution_count": 80,
   "metadata": {},
   "outputs": [],
   "source": [
    "twitter_data_clean['tweet_id'] = twitter_data_clean['tweet_id'].astype(str)\n",
    "twitter_data_clean['timestamp'] = pd.to_datetime(twitter_data_clean['timestamp'])\n",
    "twitter_data_clean['dog_type'] = twitter_data_clean['dog_type'].astype('category')\n",
    "twitter_data_clean['source'] = twitter_data_clean['source'].astype('category')"
   ]
  },
  {
   "cell_type": "markdown",
   "metadata": {},
   "source": [
    "#### Test"
   ]
  },
  {
   "cell_type": "code",
   "execution_count": 81,
   "metadata": {},
   "outputs": [
    {
     "name": "stdout",
     "output_type": "stream",
     "text": [
      "<class 'pandas.core.frame.DataFrame'>\n",
      "Int64Index: 1994 entries, 0 to 2072\n",
      "Data columns (total 22 columns):\n",
      " #   Column              Non-Null Count  Dtype              \n",
      "---  ------              --------------  -----              \n",
      " 0   tweet_id            1994 non-null   object             \n",
      " 1   timestamp           1994 non-null   datetime64[ns, UTC]\n",
      " 2   source              1994 non-null   category           \n",
      " 3   text                1994 non-null   object             \n",
      " 4   expanded_urls       1994 non-null   object             \n",
      " 5   rating_numerator    1994 non-null   int64              \n",
      " 6   rating_denominator  1994 non-null   int64              \n",
      " 7   name                1350 non-null   object             \n",
      " 8   jpg_url             1994 non-null   object             \n",
      " 9   img_num             1994 non-null   int64              \n",
      " 10  p1                  1994 non-null   object             \n",
      " 11  p1_conf             1994 non-null   float64            \n",
      " 12  p1_dog              1994 non-null   bool               \n",
      " 13  p2                  1994 non-null   object             \n",
      " 14  p2_conf             1994 non-null   float64            \n",
      " 15  p2_dog              1994 non-null   bool               \n",
      " 16  p3                  1994 non-null   object             \n",
      " 17  p3_conf             1994 non-null   float64            \n",
      " 18  p3_dog              1994 non-null   bool               \n",
      " 19  favorites           1994 non-null   int64              \n",
      " 20  retweets            1994 non-null   int64              \n",
      " 21  dog_type            1994 non-null   category           \n",
      "dtypes: bool(3), category(2), datetime64[ns, UTC](1), float64(3), int64(5), object(8)\n",
      "memory usage: 290.6+ KB\n"
     ]
    }
   ],
   "source": [
    "twitter_data_clean.info()"
   ]
  },
  {
   "cell_type": "markdown",
   "metadata": {},
   "source": [
    "## Storing Data\n",
    "Save gathered, assessed, and cleaned master dataset to a CSV file named \"twitter_archive_master.csv\"."
   ]
  },
  {
   "cell_type": "code",
   "execution_count": 82,
   "metadata": {},
   "outputs": [],
   "source": [
    "twitter_data_clean.to_csv('twitter_archive_master.csv', index=False)"
   ]
  },
  {
   "cell_type": "markdown",
   "metadata": {},
   "source": [
    "## Analyzing and Visualizing Data\n",
    "In this section, analyze and visualize your wrangled data. You must produce at least **three (3) insights and one (1) visualization.**"
   ]
  },
  {
   "cell_type": "code",
   "execution_count": 83,
   "metadata": {},
   "outputs": [],
   "source": [
    "# Read the master dataset\n",
    "df = pd.read_csv('twitter_archive_master.csv')"
   ]
  },
  {
   "cell_type": "markdown",
   "metadata": {},
   "source": [
    "### Which kind of source is being using the most?"
   ]
  },
  {
   "cell_type": "markdown",
   "metadata": {},
   "source": [
    "#### Insights 1: almost 98% of people using iPhone"
   ]
  },
  {
   "cell_type": "code",
   "execution_count": 84,
   "metadata": {},
   "outputs": [
    {
     "data": {
      "text/plain": [
       "Twitter for iPhone    0.980441\n",
       "Twitter Web Client    0.014042\n",
       "TweetDeck             0.005517\n",
       "Name: source, dtype: float64"
      ]
     },
     "execution_count": 84,
     "metadata": {},
     "output_type": "execute_result"
    }
   ],
   "source": [
    "df.source.value_counts(normalize=True)"
   ]
  },
  {
   "cell_type": "code",
   "execution_count": 85,
   "metadata": {},
   "outputs": [
    {
     "data": {
      "image/png": "[encoded data removed]",
      "text/plain": [
       "<Figure size 576x432 with 1 Axes>"
      ]
     },
     "metadata": {
      "needs_background": "light"
     },
     "output_type": "display_data"
    }
   ],
   "source": [
    "# Plot chart\n",
    "from matplotlib import rcParams\n",
    "rcParams.update({'figure.autolayout': True})\n",
    "\n",
    "plt.figure(figsize=(8,6))\n",
    "df.source.value_counts(normalize=True).sort_values(ascending=False).plot.bar()\n",
    "plt.title(\"Source of use\")\n",
    "plt.xticks(rotation=45)\n",
    "plt.xlabel(\"Sourse type\")\n",
    "plt.ylabel(\"Proportion of users\");\n",
    "\n",
    "#save pic\n",
    "plt.savefig('sourse.png')"
   ]
  },
  {
   "cell_type": "markdown",
   "metadata": {},
   "source": [
    "### Which is the most popular dog stage?"
   ]
  },
  {
   "cell_type": "markdown",
   "metadata": {},
   "source": [
    "#### Insights 2: the most popular dog stage is puper (66%)"
   ]
  },
  {
   "cell_type": "code",
   "execution_count": 86,
   "metadata": {},
   "outputs": [
    {
     "data": {
      "text/plain": [
       "pupper            0.663399\n",
       "doggo             0.205882\n",
       "puppo             0.071895\n",
       "doggo, pupper     0.029412\n",
       "floofer           0.022876\n",
       "doggo, puppo      0.003268\n",
       "doggo, floofer    0.003268\n",
       "Name: dog_type, dtype: float64"
      ]
     },
     "execution_count": 86,
     "metadata": {},
     "output_type": "execute_result"
    }
   ],
   "source": [
    "df.dog_type.value_counts(normalize=True)"
   ]
  },
  {
   "cell_type": "code",
   "execution_count": 87,
   "metadata": {},
   "outputs": [
    {
     "data": {
      "image/png": "[encoded data removed]",
      "text/plain": [
       "<Figure size 576x432 with 1 Axes>"
      ]
     },
     "metadata": {
      "needs_background": "light"
     },
     "output_type": "display_data"
    }
   ],
   "source": [
    "# Plot chart\n",
    "from matplotlib import rcParams\n",
    "rcParams.update({'figure.autolayout': True})\n",
    "\n",
    "plt.figure(figsize=(8,6))\n",
    "df.dog_type.value_counts(normalize=True).sort_values(ascending=False).plot.bar()\n",
    "plt.title(\"Most popular stage\")\n",
    "plt.xticks(rotation=45)\n",
    "plt.xlabel(\"Stage type\")\n",
    "plt.ylabel(\"Proportion of dogs\");\n",
    "\n",
    "#save pic\n",
    "plt.savefig('dog_stage.png')"
   ]
  },
  {
   "cell_type": "markdown",
   "metadata": {},
   "source": [
    "### What are the most popular 10 names for the dogs?"
   ]
  },
  {
   "cell_type": "markdown",
   "metadata": {},
   "source": [
    "#### Insights 3: the most popular name is Charlie"
   ]
  },
  {
   "cell_type": "code",
   "execution_count": 88,
   "metadata": {},
   "outputs": [
    {
     "data": {
      "text/plain": [
       "Charlie       11\n",
       "Cooper        10\n",
       "Lucy          10\n",
       "Oliver        10\n",
       "Penny          9\n",
       "              ..\n",
       "Leela          1\n",
       "Glenn          1\n",
       "Shelby         1\n",
       "Sephie         1\n",
       "Christoper     1\n",
       "Name: name, Length: 913, dtype: int64"
      ]
     },
     "execution_count": 88,
     "metadata": {},
     "output_type": "execute_result"
    }
   ],
   "source": [
    "df.name.value_counts()"
   ]
  },
  {
   "cell_type": "code",
   "execution_count": 89,
   "metadata": {},
   "outputs": [
    {
     "data": {
      "image/png": "[encoded data removed]",
      "text/plain": [
       "<Figure size 576x432 with 1 Axes>"
      ]
     },
     "metadata": {
      "needs_background": "light"
     },
     "output_type": "display_data"
    }
   ],
   "source": [
    "# Plot chart\n",
    "from matplotlib import rcParams\n",
    "rcParams.update({'figure.autolayout': True})\n",
    "\n",
    "plt.figure(figsize=(8,6))\n",
    "df.name.value_counts()[0:10].sort_values(ascending=False).plot.bar()\n",
    "plt.title(\"Top 10 popular dog names\")\n",
    "plt.xticks(rotation=45)\n",
    "plt.xlabel(\"Dog names\")\n",
    "plt.ylabel(\"Count of dogs\");\n",
    "\n",
    "#save pic\n",
    "plt.savefig('dog_names.png')"
   ]
  },
  {
   "cell_type": "markdown",
   "metadata": {
    "collapsed": true
   },
   "source": [
    "### Visualization"
   ]
  },
  {
   "cell_type": "markdown",
   "metadata": {},
   "source": [
    "#### How accurate are the models predicting?"
   ]
  },
  {
   "cell_type": "code",
   "execution_count": 90,
   "metadata": {
    "scrolled": true
   },
   "outputs": [
    {
     "data": {
      "image/png": "[encoded data removed]",
      "text/plain": [
       "<Figure size 432x288 with 1 Axes>"
      ]
     },
     "metadata": {},
     "output_type": "display_data"
    }
   ],
   "source": [
    "# Plot pie chart for model 1\n",
    "labels = ['True', 'False']\n",
    "values = df.p1_dog.value_counts(normalize=True)\n",
    "colors = ['g','m',]\n",
    "explode = (0.2, 0, 0, 0, 0)\n",
    "\n",
    "plt.pie(values, colors=colors, autopct='%1.1f%%', radius = 1.2, shadow=True, counterclock=False)\n",
    "plt.legend(labels, loc=0)\n",
    "plt.title('Model 1 accuracy')\n",
    "plt.tight_layout();"
   ]
  },
  {
   "cell_type": "code",
   "execution_count": 91,
   "metadata": {},
   "outputs": [
    {
     "data": {
      "image/png": "[encoded data removed]",
      "text/plain": [
       "<Figure size 432x288 with 1 Axes>"
      ]
     },
     "metadata": {},
     "output_type": "display_data"
    }
   ],
   "source": [
    "# Plot pie chart for model 2\n",
    "labels = ['True', 'False']\n",
    "values = df.p2_dog.value_counts(normalize=True)\n",
    "colors = ['g','m',]\n",
    "explode = (0.2, 0, 0, 0, 0)\n",
    "\n",
    "plt.pie(values, colors=colors, autopct='%1.1f%%', radius = 1.2, shadow=True, counterclock=False)\n",
    "plt.legend(labels, loc=0)\n",
    "plt.title('Model 2 accuracy')\n",
    "plt.tight_layout();\n",
    "\n",
    "plt.savefig('model_forecast')"
   ]
  },
  {
   "cell_type": "code",
   "execution_count": 92,
   "metadata": {},
   "outputs": [
    {
     "data": {
      "image/png": "[encoded data removed]",
      "text/plain": [
       "<Figure size 432x288 with 1 Axes>"
      ]
     },
     "metadata": {},
     "output_type": "display_data"
    }
   ],
   "source": [
    "# Plot pie chart for model 3\n",
    "labels = ['True', 'False']\n",
    "values = df.p3_dog.value_counts(normalize=True)\n",
    "colors = ['g','m',]\n",
    "explode = (0.2, 0, 0, 0, 0)\n",
    "\n",
    "plt.pie(values, colors=colors, autopct='%1.1f%%', radius = 1.2, shadow=True, counterclock=False)\n",
    "plt.legend(labels, loc=0)\n",
    "plt.title('Model 3 accuracy')\n",
    "plt.tight_layout();"
   ]
  },
  {
   "cell_type": "markdown",
   "metadata": {},
   "source": [
    "#### There is a strong positiv corelation between Favorite and Retweet counts. "
   ]
  },
  {
   "cell_type": "code",
   "execution_count": 94,
   "metadata": {},
   "outputs": [
    {
     "name": "stderr",
     "output_type": "stream",
     "text": [
      "C:\\Users\\manuk\\anaconda3\\lib\\site-packages\\seaborn\\regression.py:581: UserWarning: The `size` parameter has been renamed to `height`; please update your code.\n",
      "  warnings.warn(msg, UserWarning)\n"
     ]
    },
    {
     "data": {
      "image/png": "[encoded data removed]",
      "text/plain": [
       "<Figure size 374.4x288 with 1 Axes>"
      ]
     },
     "metadata": {
      "needs_background": "light"
     },
     "output_type": "display_data"
    }
   ],
   "source": [
    "# Plot scatterplot of retweet vs favorite count\n",
    "sns.lmplot(x=\"retweets\", \n",
    "           y=\"favorites\", \n",
    "           data=df,\n",
    "           size = 4,\n",
    "           aspect=1.3,\n",
    "           scatter_kws={'alpha':1/5})\n",
    "plt.title('Favorite vs. Retweet')\n",
    "plt.xlabel('Retweet')\n",
    "plt.ylabel('Favorite');\n",
    "\n",
    "#save pic\n",
    "plt.savefig('favorite_retweet')"
   ]
  },
  {
   "cell_type": "code",
   "execution_count": null,
   "metadata": {},
   "outputs": [],
   "source": []
  }
 ],
 "metadata": {
  "extensions": {
   "jupyter_dashboards": {
    "activeView": "report_default",
    "version": 1,
    "views": {
     "grid_default": {
      "cellMargin": 10,
      "defaultCellHeight": 20,
      "maxColumns": 12,
      "name": "grid",
      "type": "grid"
     },
     "report_default": {
      "name": "report",
      "type": "report"
     }
    }
   }
  },
  "kernelspec": {
   "display_name": "Python 3 (ipykernel)",
   "language": "python",
   "name": "python3"
  },
  "language_info": {
   "codemirror_mode": {
    "name": "ipython",
    "version": 3
   },
   "file_extension": ".py",
   "mimetype": "text/x-python",
   "name": "python",
   "nbconvert_exporter": "python",
   "pygments_lexer": "ipython3",
   "version": "3.9.12"
  }
 },
 "nbformat": 4,
 "nbformat_minor": 2
}
